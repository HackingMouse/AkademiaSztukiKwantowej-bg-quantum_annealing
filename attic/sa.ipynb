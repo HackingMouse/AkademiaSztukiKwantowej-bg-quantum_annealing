{
 "cells": [
  {
   "cell_type": "markdown",
   "id": "989cf30d",
   "metadata": {},
   "source": [
    "\n",
    "Przez to że algorytm sam w sobie jest stochastyczny nie mamy gwarancji że w trakcie jednego wywołania otrzymamy najlepszy możliwy wynik. Jedym z rozwiązać tego problemu jest zrównoleglenie algorytmu. Oznacza to, że jednocześnie śledzimy wiele \"trajektorii\" i na końcu obliczeń możemy wybrać najlepszą z nich. Można tego dokonać wywołując algorytm wielokrotnie, ale jest to nieefektywne. Lepszym rozwiązaniem jest trzymanie wielu stanów ułożonych w macierz. Niech $\\sigma_i$ będzie stanem, wtedy mając $M$ trajektorii:\n",
    "\n",
    "$$\n",
    "\\sigma = \\begin{bmatrix}\n",
    "\\vert & \\vert & \\cdots & \\vert \\\\\n",
    "\\sigma_1 & \\sigma_2 & \\cdots & \\sigma_M \\\\\n",
    "\\vert & \\vert & \\cdots & \\vert\n",
    "\\end{bmatrix}\n",
    "$$\n",
    "\n",
    "Wybór czy trzymamy stany w kolumnach czy w wierszach jest poniekąt arbitralny. To podejście pozwala nam równolegle liczyć wiele rozwiązań."
   ]
  },
  {
   "cell_type": "code",
   "execution_count": null,
   "id": "7cbefa60",
   "metadata": {
    "vscode": {
     "languageId": "plaintext"
    }
   },
   "outputs": [],
   "source": [
    "# Implementacja zrównoleglona, z wieloma trajektoriami\n",
    "import numpy as np\n",
    "from math import exp\n",
    "from funkcje_pomocnicze import calculate_energy_matrix\n",
    "from copy import deepcopy\n",
    "\n",
    "\n",
    "def random_neightbour_parrarel(solution: np.ndarray):\n",
    "    rows, cols = solution.shape\n",
    "    random_idx = np.random.randint(0, rows, size=cols)\n",
    "    new_solution = deepcopy(solution)\n",
    "    new_solution[random_idx, np.arange(cols)] *= -1\n",
    "    return new_solution, random_idx\n",
    "\n",
    "\n",
    "def acceptance_probability_parrarel(delta_e: np.ndarray, temp: float) -> np.ndarray:\n",
    "    beta = 1 / temp\n",
    "    probabilities = np.where(delta_e < 0, 1, np.exp(-beta * delta_e))\n",
    "    return probabilities\n",
    "\n",
    "def simulated_annealing_multiple_trajectories(J, h,  num_steps: int = 1000, initial_temp: float = 10, final_temp: float = 1e-12,\n",
    "                                                num_repeats: int = 1, num_trajectories: int = 10,\n",
    "                                              schedule: str = \"linear\"):\n",
    "    n = len(h)\n",
    "    cols = np.arange(num_trajectories)\n",
    "    solution = np.random.choice([-1, 1], size=(n, num_trajectories))\n",
    "    energy = calculate_energy_matrix(J, h, solution)\n",
    "\n",
    "    T_0 = initial_temp\n",
    "    T_final = final_temp\n",
    "\n",
    "    if schedule == \"linear\":\n",
    "        schedule = np.linspace(T_0, T_final, num=num_steps, endpoint=True)\n",
    "\n",
    "    elif schedule == \"geometric\":\n",
    "        alpha = 0.95\n",
    "        schedule = np.array([max(T_0 * (alpha ** i), T_final) for i in range(num_steps)])\n",
    "\n",
    "    elif schedule == \"exponential\":\n",
    "        schedule = np.geomspace(T_0, T_final, num=num_steps, endpoint=True)\n",
    "\n",
    "    for k in range(num_steps):\n",
    "        temp = schedule[k]\n",
    "        for _ in range(num_repeats):\n",
    "    \n",
    "            new_solution, idx = random_neightbour_parrarel(solution)\n",
    "            new_energy = calculate_energy_matrix(J, h, new_solution)\n",
    "            delta_e = new_energy - energy\n",
    "\n",
    "            acc_prob = acceptance_probability_parrarel(delta_e, temp)\n",
    "            r = np.random.random(size=num_trajectories)\n",
    "            result = acc_prob > r\n",
    "\n",
    "            accepted_moves = idx[result]\n",
    "            changed_states = cols[result]\n",
    "            solution[accepted_moves, changed_states] *=-1\n",
    "            energy = calculate_energy_matrix(J, h, solution)\n",
    "\n",
    "    return solution, energy"
   ]
  },
  {
   "cell_type": "code",
   "execution_count": null,
   "id": "070535cc",
   "metadata": {
    "vscode": {
     "languageId": "plaintext"
    }
   },
   "outputs": [],
   "source": [
    "\n",
    "import matplotlib.pyplot as plt\n",
    "from funkcje_pomocnicze import read_instance, small_grid, test_pegasus\n",
    "from tqdm import tqdm\n",
    "\n",
    "instance = test_pegasus\n",
    "\n",
    "J, h = read_instance(instance.path)\n",
    "\n",
    "# Ponieważ jest to probabilistyczny algorytm warto go puścić kilka razy i wybrać najlepszy wynik\n",
    "\n",
    "states, energies = simulated_annealing_multiple_trajectories(J, h, initial_temp=10, final_temp=1e-6, num_steps=1000, num_repeats=10, schedule=\"exponential\")\n",
    "\n",
    "\n",
    "print(f\"Otrzymana energia: {min(energies)}\")\n",
    "print(f\"Najniższa znana energia: {instance.best_energy}\")\n",
    "print(f\"Luka energetyczna: {((instance.best_energy - min(energies))/instance.best_energy * 100):.2f}%\")"
   ]
  },
  {
   "cell_type": "markdown",
   "id": "d509cbea",
   "metadata": {},
   "source": []
  }
 ],
 "metadata": {
  "language_info": {
   "name": "python"
  }
 },
 "nbformat": 4,
 "nbformat_minor": 5
}
