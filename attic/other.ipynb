{
 "cells": [
  {
   "cell_type": "code",
   "execution_count": null,
   "metadata": {
    "vscode": {
     "languageId": "plaintext"
    }
   },
   "outputs": [],
   "source": [
    "import numpy as np\n",
    "import matplotlib.pyplot as plt\n",
    "from math import sqrt\n",
    "from typing import Optional, Callable, Union\n",
    "\n",
    "\n",
    "\n",
    "def simulated_bifurcation(J, h, num_steps, time_step, M, trajectories, \n",
    "                          K: Optional[float] = None, delta: Optional[float] = None, xi_0: Union[Callable, float, None] = None):\n",
    "    # Ustawianie parametrów\n",
    "    K = 1\n",
    "    delta = 1\n",
    "    small_delta_t = time_step/M\n",
    "    N = len(h)\n",
    "    sigma = 1   # sigma = np.std(J.flatten())\n",
    "    xi_0 = 0.7 * time_step / sigma * sqrt(N)\n",
    "    #xi_0 = 0.1\n",
    "   \n",
    "    # Iniclizacja\n",
    "    # x = np.random.uniform(-0.1, 0.1, (N, trajectories))\n",
    "    x = np.zeros((N, trajectories))\n",
    "    y = np.random.uniform(-0.1, 0.1, (N, trajectories))\n",
    "    #y = np.zeros((N, trajectories))\n",
    "    p = np.linspace(0, 1, num=num_steps)\n",
    "\n",
    "    x_1_history = []\n",
    "    y_1_history = []\n",
    "    timeline = np.array(list(range(num_steps)))\n",
    "\n",
    "    for t in range(num_steps):\n",
    "        x += delta * y * time_step\n",
    "        y -= (K * np.power(x, 3) + (delta - p[t]) * x - xi_0 * J @ x) * time_step\n",
    "\n",
    "        # x_m = x\n",
    "        # y_m = y\n",
    "\n",
    "        # for _ in range(M):\n",
    "        #     x_m += delta * y_m * small_delta_t\n",
    "        #     y_m -= (K * np.power(x_m, 3) + (delta - p[t + 1]) * x_m) * small_delta_t\n",
    "\n",
    "        # x = x_m\n",
    "        # y = y_m + xi_0 * J @ x * time_step\n",
    "        x_1_history.append(x[0, 0])\n",
    "        y_1_history.append(y[0, 0])\n",
    "        \n",
    "\n",
    "    \n",
    "    plt.plot(timeline, x_1_history)\n",
    "    plt.plot(timeline, y_1_history)\n",
    "    plt.ylim(-1.5, 1.5)\n",
    "    plt.legend([\"x_i\", \"y_i\"])\n",
    "    plt.xlabel(\"t\")\n",
    "    plt.show()\n",
    "    solution = np.sign(x)\n",
    "    return solution, -0.5 * solution.T @ J @ solution"
   ]
  },
  {
   "cell_type": "code",
   "execution_count": null,
   "metadata": {
    "vscode": {
     "languageId": "plaintext"
    }
   },
   "outputs": [],
   "source": [
    "# Annealing schedules.\n",
    "# Ładujemy odpowiednio odrobione dane udostępnione przez dwave\n",
    "# zmienne x, a, b pozwolą nam intepolowować jeżeli dana wartość s nie występuje w danych\n",
    "schedule = os.path.join(\"inne\", \"Advantage_system4_1_standard_annealing_schedule.xlsx\")\n",
    "df = load_dwave_schedule(schedule)\n",
    "x = df[\"s\"].to_numpy()\n",
    "a = df[\"A(s)\"].to_numpy()\n",
    "b = df[\"B(s)\"].to_numpy()\n",
    "\n",
    "\n",
    "def A(t, x, a):\n",
    "    s = t/T\n",
    "    return np.interp(s, x, a)\n",
    "\n",
    "\n",
    "def B(t, x, b):\n",
    "    s = t/T\n",
    "    return np.interp(s, x, b)"
   ]
  }
 ],
 "metadata": {
  "language_info": {
   "name": "python"
  }
 },
 "nbformat": 4,
 "nbformat_minor": 2
}
