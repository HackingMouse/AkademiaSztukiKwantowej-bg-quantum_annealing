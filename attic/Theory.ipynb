{
 "cells": [
  {
   "cell_type": "markdown",
   "metadata": {},
   "source": [
    "![IITIS](pictures/logoIITISduze.png)"
   ]
  },
  {
   "cell_type": "markdown",
   "metadata": {},
   "source": [
    "# Introduction To Ising Model and Quadratic Unconstrained Binary Optimisation (QUBO)"
   ]
  },
  {
   "cell_type": "markdown",
   "metadata": {},
   "source": [
    "## Ising Model\n",
    "\n",
    "The Ising model has begun its life as a model of ferromagnetism. Ernst Ising introduced it in the early 1920s, and it has since become a fundamental model for understanding phase transitions and emergent properties in various physical systems. In this course, we will focus on one problem related to the Ising model: finding its ground state (i.e., the state with the lowest energy) and a low energy spectrum. As will be shown later in the course, the Ising model is significant not only in physics but also influences fields such as finance, social dynamics, and optimization in computer science."
   ]
  },
  {
   "cell_type": "markdown",
   "metadata": {},
   "source": [
    "### Definition\n",
    "Let us consider a vector of binary variables $\\bm{s} = (s_1, s_2, \\ldots, s_N)$. These variables are called **spin** and can be in one of two states: up (+1) or down (-1), formally $s_i = \\pm 1$. Spins are arranged on some simple graph $G$, which describes interactions between them. The edges of $G$ (denoted $E(G)$) determine which spin interacts with which. The strength of the **interaction** (or **coupling**) between $s_i$ and $s_j$ is denoted by $J_{ij} \\in \\mathbb{R}$. Additionally, each spin is subjected to the **external magnetic field** (or simply **bias**) $h_i \\in \\mathbb{R}$. The energy of the system is described by the following Hamiltonian:\n",
    "$$\n",
    "H(\\bm{s}) = \\sum_{(i, j) \\in E(G)} J_{ij} s_i s_j + \\sum_{i=1}^{N} h_i s_i\n",
    "$$\n",
    "\n",
    "Additionaly each realization of $\\bm{s}$ is called **state** or **configuration**. Our goal is to find $\\bm{s}$ that minimizes $H(\\bm{s})$. Such state is called a **ground state**, that is state with the lowest posible energy. If more than one ground state exists, they are said to be **degenerate**."
   ]
  },
  {
   "cell_type": "markdown",
   "metadata": {},
   "source": [
    "![example](pictures/example_new.png)"
   ]
  },
  {
   "cell_type": "markdown",
   "metadata": {},
   "source": [
    "From a computing standpoint, looking at the Ising model in terms of linear algebra may be easier. We look into the adjacency matrix of graph $G$ and treat each $J_{ij}$ as weight assigned to the edge. As $G$ is undirected, $J_{ij} = J_{ji}$. To avoid needles work, we can treat this matrix as an upper-triangular matrix and only care for $J_{ij}$ where $ i < j$. It is customary to denote this matrix by $\\bm{J}$. Additionally, we can order values $h_i$ into the vector $\\bm{h}$ Then the equation for $H(\\bm{s})$ is equal:\n",
    "$$\n",
    "H(\\bm{s}) = \\bm{s}\\bm{J}\\bm{s}^{T} + \\bm{h}\\bm{s}^{T}\n",
    "$$"
   ]
  },
  {
   "cell_type": "markdown",
   "metadata": {},
   "source": [
    "### Physical interpretation\n",
    "\n",
    "Traditionally, in physic Ising model is described on $d$-dimentional lattice (graph $G$ in our definition). In the model of ferromagnetism, Ising original study, one may think of the lattice sites as being occupied by atoms of a magnetic material. Each atom has a magnetic moment (spin) which is allowed to point either \"up\" or \"down.\" That way, if all sites point \"up\" or \"down\" we have a ferromagnet. On the other hand, if all neighboring sites point in oposite direction we will have anitferromagnet, without (or with vanishing) magnetisation. In this interpretation $h_i$ represents external magnetic field which forces magnetic moment into particular direction. Interaction between spins $J_i$ may be ferromagnetic if it promotes both sites pointing in the same direction., otherwise it is called antiferromagnetic. State in which spins are randomly pointing up or down is often called **spin glass**.\n"
   ]
  },
  {
   "cell_type": "markdown",
   "metadata": {},
   "source": [
    "### Low-Energy Spectrum\n",
    "\n",
    "In some cases, especially in models with competing interactions (e.g., both ferromagnetic and antiferromagnetic couplings), the system may be **frustrated**, meaning that not all interactions can be simultaneously minimized."
   ]
  },
  {
   "cell_type": "markdown",
   "metadata": {},
   "source": [
    "## Quadratic Unconstrained Binary Optimisation (QUBO)\n",
    "Quadratic Unconstrained Binary Optimization (QUBO) is a mathematical model used for solving combinatorial optimization problems. As name sugests it is concerned with models where there are quadratic dependencies between variables, there are no constrains and variables are binary. This description encompases suprisingly large class of problems, such as MAX-CUT, traveling salesman or job shob sheduling.  \n",
    "\n",
    "### Definition\n",
    "The QUBO model is expressed by the following optimization problem. Given symmetric matrix $Q$, find binary vector $\\bm{x}^*$ such that:\n",
    "\n",
    "$$ \\bm{x}^* = \\arg \\min_x \\bm{x}Q\\bm{x}^T = \\sum_i \\sum_j Q_{i,j} x_i x_j$$\n",
    "\n",
    "It is common to change the Q matrix into upper triangular form, which can be\n",
    "achieved without loss of generality simply as follows. For all $i$ and $j$ with $j>i$ , replace $Q_{ij}$ by $Q_{ij} + Q_{ji}$ . Then replace all $Q_{ji}$\n",
    "for $j < i$ by 0. \n",
    "\n",
    "It is worth noting that for binary variables, $x^2 = x$. This allows us to divide QUBO into linear part on the diagonal and quadratic part:\n",
    "\n",
    "$$ \\bm{x}Q\\bm{x}^T =  \\sum_i Q_{i,i} x_i + \\sum_{i \\neq j} Q_{i,j} x_i x_j$$\n"
   ]
  },
  {
   "cell_type": "markdown",
   "metadata": {},
   "source": [
    "### Solving Example QUBO\n",
    "\n",
    "This first example will lay the ground work to see better different problems can be cast in QUBO form.\n",
    "To begin, consider the optimization problem:\n",
    "$$\n",
    "\\text{minimize} \\, y = -5x_1 -3x_2 -8x_3 - 6x_4 + 4x_1x_2 + 8x_1x_3 + 2x_2x_3 + 10x_3x_4\n",
    "$$\n",
    "\n",
    "We will make several observations:\n",
    "1. The function to be minimized has a linear part $-5x_1 -3x_2 -8x_3 - 6x_4$ and quadratic part $4x_1x_2 + 8x_1x_3 + 2x_2x_3 + 10x_3x_4$\n",
    "2. Since for binary variables $x_i = x_i^2$, then we can write linear part as\n",
    "$$\n",
    "-5x_1^2 -3x_2^2 -8x_3^2 - 6x_4^2\n",
    "$$\n",
    "3. Then we can re-write the model in the following matrix form:\n",
    "$$\n",
    "\\text{minimize} y = [x_1 \\, x_2 \\, x_3 \\, x_4] \\begin{bmatrix} \n",
    "-5 & 4 & 8 & 0 \\\\ \n",
    "0 & -3 & 2 & 0 \\\\\n",
    "0 & 0 & -8 & 10 \\\\\n",
    "0 & 0 & 0 & -6\n",
    "\\end{bmatrix}\n",
    "\\begin{bmatrix}\n",
    "x_1 \\\\\n",
    "x_2 \\\\\n",
    "x_3 \\\\\n",
    "x_4\n",
    "\\end{bmatrix}\n",
    "$$\n",
    "\n",
    "4. Which can be writen as \n",
    "$$\n",
    "y = \\arg \\min_x \\bm{x}Q\\bm{x}^T\n",
    "$$\n",
    "notice, that here we use convention of keeping $Q$ as an uper-triangular matrix.\n",
    "\n",
    "5. Other than the binary restrictions on the decision variables, QUBO is an unconstrained model with all problem data being contained in the $Q$ matrix. This fact makes the QUBO model atractive framework for several optimisation problems."
   ]
  },
  {
   "cell_type": "markdown",
   "metadata": {},
   "source": [
    "\n",
    "### Equivalence to Ising Model\n",
    "\n",
    "The formula given above is suspiciously similar to definition of Ising model. As reminder, The definition of ising model is:\n",
    "\n",
    "$$\n",
    "    H(\\textbf{s}) =  \\sum_{i < j} J_{ij} s_i s_j + \\sum_i h_i s_i\n",
    "$$\n",
    "\n",
    "where we assume that $\\textbf{J}$ is a uper triangular matrix, $i=1, \\ldots, N$ and  $s_i = \\pm 1$. \n",
    "\n",
    "\n",
    "In fact solving QUBO and finding ground states of ising model are equivalent problems!. They can be relatively easy changed into each other by performing following substitution\n",
    "\n",
    "$$x_i = \\frac{s_i + 1}{2}$$\n",
    "$$s_i = 2x_i - 1$$\n",
    "\n",
    "If we substitute those variable to respective formulas we get:\n",
    "\n",
    "$$\n",
    "Q_{ij} = 4 J_{ij} \n",
    "$$\n",
    "$$\n",
    "Q_{ii} = 2h_i - 2\\sum_{j \\neq i} J_{i,j}\n",
    "$$\n",
    "\n",
    "and\n",
    "\n",
    "$$\n",
    "J_{ij} = \\frac{1}{4} Q_{i,j}\n",
    "$$\n",
    "$$\n",
    "h_{i} = \\frac{1}{2}Q_{i,i} + \\frac{1}{4} \\sum_{j \\neq i} Q_{i,j}\n",
    "$$\n",
    "\n",
    "It is important to remember that transforimation generates some additional constant, so obtained values of objective funtion cannot be directly compared. "
   ]
  },
  {
   "cell_type": "markdown",
   "metadata": {},
   "source": [
    "## Encoding problems as QUBO\n",
    "\n",
    "Is this section we will present some problems witch have natural formulation as QUBO.\n",
    "\n",
    "### Max-Cut\n",
    "\n",
    "The Max Cut problem is one of the most famous problems in combinatorial optimization. Given\n",
    "an undirected graph $G(V, E)$ with a vertex set $V$ and an edge set $E$, the Max Cut problem seeks to\n",
    "partition $V$ into two sets such that the number of edges between the two sets (considered to be\n",
    "severed by the cut), is a large as possible.\n",
    "We can model this problem by introducing binary variables satisfying $x_i = 1$ if vertex i is in one\n",
    "set and $x_i = 0$ if it is in the other set. Viewing a cut as severing edges joining two sets, to leave\n",
    "endpoints of the edges in different vertex sets, the quantity $x_i  + x_j − 2x_i x_j$ identifies whether\n",
    "the edge $(i, j)$ is in the cut.\n",
    "\n",
    "Thus, the problem of maximizing the number of edges in the cut can be formulated as:\n",
    "$$\\max \\sum_{(i,j) \\in E(G)} (x_i  + x_j − 2x_i x_j) = \\min \\sum_{(i,j) \\in E(G)} (-x_i  - x_j + 2x_i x_j)$$\n",
    "\n",
    "It is worth noting that each vertex is counted twice. This allows us to formulate the problem as QUBO:\n",
    "\n",
    "$$\\min \\sum_{i} -2x_i + \\sum_{(i,j) \\in E(G) } 2x_i x_j = \\min \\bm{x}Q\\bm{x}^T $$\n",
    "\n",
    "if $Q$ is the addjency matrix for graph $G$ with -2 on the diagonal. \n",
    "\n",
    "![example](pictures/cut_examples.png)"
   ]
  },
  {
   "cell_type": "markdown",
   "metadata": {},
   "source": [
    "### Portfolio optimisation\n",
    "\n"
   ]
  },
  {
   "cell_type": "markdown",
   "metadata": {},
   "source": [
    "# Solving Ising Model/QUBO  \n",
    "\n",
    "## Exhaustive Search\n",
    "\n",
    "Exhausitve search (also known as bruteforce)\n",
    "\n",
    "\n",
    "```{r, tidy=FALSE, eval=FALSE, highlight=FALSE }\n",
    "\n",
    "pseudocode\n",
    "\n",
    "```"
   ]
  },
  {
   "cell_type": "markdown",
   "metadata": {},
   "source": [
    "# Futher Reading\n",
    "\n",
    "- Any textbook for statistical mechanic (ex. Luca Peliti: Statistical Mechanics in a Nutshell, R.J. Baxter: Exactly Solved Models in Statistical Mechanics, H.E. Stanley: Introduction to Phase Transitions and Critical Phenomena etc.)\n",
    "- Cipra, B. A. (1987). An introduction to the Ising model. *The American Mathematical Monthly*, 94(10), 937-959.\n",
    "- Stinchcombe, R. B. (1973). Ising model in a transverse field. I. Basic theory. *Journal of Physics C: Solid State Physics*, 6(15), 2459.\n",
    "- Barahona, F. (1982). On the computational complexity of Ising spin glass models. *Journal of Physics A: Mathematical and General*, 15(10), 3241."
   ]
  }
 ],
 "metadata": {
  "language_info": {
   "name": "python"
  }
 },
 "nbformat": 4,
 "nbformat_minor": 2
}
