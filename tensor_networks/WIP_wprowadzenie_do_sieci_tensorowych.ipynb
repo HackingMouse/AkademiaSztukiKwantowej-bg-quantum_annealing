{
 "cells": [
  {
   "cell_type": "markdown",
   "metadata": {},
   "source": [
    "# Wprowadzenie do sieci tensorowych\n",
    "\n",
    "Tutaj będzie zaprezentowane wprowadzenie do sieci tensorowych (TN - *ang. Tensor Networks*). Jego głównym celem jest zaprezantowanie podstawowej terminologii i narzędzi, potrzebych do zrozumienia algorytmów wykożystujących TN. \n",
    "\n",
    "## Tensory i zwęrzanie indeksów\n",
    "\n",
    "Na nasze potrzeby, jako tensor będziemy rozumieli indeksowany zbiór liczb, albo inaczej mówiąc, wielowymiarową tablicę liczb. Jako **rząd** tensora będziemy rozumieli liczbę różnych indeksów (albo kolokwialnie ile \"wymiarów\" posiada). Tak więc wektor to jest tensor 1-rzędu,  Macierz to tensor 2-rzędu, a trójwymarowa tablica liczb to tensor 3-rzędu itd.\n",
    "\n",
    "![TN](pictures/tensor-illustration.jpg)\n",
    "\n",
    "*Zwężaniem indeksu* nazywamy sumę po wszystkich możliwych wartościach powtarzających się indeksów w zbiorze tensorów. Przykładowo, nnorzenie macierzy można przedstawić jako:\n",
    "\n",
    "$$\n",
    "C_{ik} = \\sum_{j=1}^D A_{ij} B_{jk}.\n",
    "$$\n",
    "\n",
    "Jest to zwęrzenie indeksu $j$, czyli suma po jego wszystkich $D$ wartościach, $j = 1, \\ldots, D$. Bardziej skomplikowaqny przykład:\n",
    "\n",
    "$$\n",
    "D_{ijk} = \\sum_{l=1}^{D_1}\\sum_{m=1}^{D_2}\\sum_{n=1}^{D_3} A_{ljm} B_{iln} C_{nmk}.\n",
    "$$\n",
    "\n",
    "Warto zauważyć, że każdy indeks moze przyjmować różne wartości. \n",
    "\n",
    "Jak widać w powyższych przykładach, zwęrzanie indeksów daje w wyniku nowy tensor, tak samo jak przykładowo mnożenie macieży daje nową macierz. Indeksy które nie zostały zwęrzone nazywamy *otwartymi indeksami*.\n",
    "\n",
    "Poniżej jest przedstawiony kod zwiężania tensorów."
   ]
  },
  {
   "cell_type": "code",
   "execution_count": 4,
   "metadata": {},
   "outputs": [
    {
     "name": "stdout",
     "output_type": "stream",
     "text": [
      "Rozmiar tensora D: (5, 3, 7)\n"
     ]
    }
   ],
   "source": [
    "# Podstawowe zwęrzanie tensorów\n",
    "\n",
    "using LinearAlgebra\n",
    "\n",
    "A = rand(2,3,4)\n",
    "B = rand(5,2,6)\n",
    "C = rand(6,4,7)\n",
    "\n",
    "\n",
    "l, j, m = size(A)\n",
    "i, _, n = size(B)\n",
    "_, _, k = size(C)\n",
    "D = zeros(i, j, k)\n",
    "\n",
    "for ii in 1:i, jj in 1:j, kk in 1:k\n",
    "    for ll in 1:l, mm in 1:m, nn in 1:n\n",
    "        D[ii, jj, kk] += A[ll, jj, mm] * B[ii, ll, nn] * C[nn, mm, kk]\n",
    "    end\n",
    "end\n",
    "\n",
    "println(\"Rozmiar tensora D: \", size(D))"
   ]
  },
  {
   "cell_type": "markdown",
   "metadata": {},
   "source": [
    "Jak widać, pisanie tych sumowań \"z palca\" jest bardzo nieporęczne. Na szczęście istnieją biblioteki które ułatwiają to zadanie. Jedną z nich jest `TensorOperations.jl` z bardzo przydanym makro `@tensor` "
   ]
  },
  {
   "cell_type": "code",
   "execution_count": null,
   "metadata": {},
   "outputs": [
    {
     "name": "stdout",
     "output_type": "stream",
     "text": [
      "Rozmiar tensora D': (5, 3, 7)\n",
      "Tensor D równy tensorowi D' true\n"
     ]
    }
   ],
   "source": [
    "using TensorOperations\n",
    "\n",
    "@tensor D_prim[i, j, k] := A[l, j, m] * B[i, l, n] * C[n, m, k]\n",
    "\n",
    "println(\"Rozmiar tensora D': \", size(D_prim))\n",
    "\n",
    "println(\"Tensor D równy tensorowi D': \", D≈D_prim)  "
   ]
  },
  {
   "cell_type": "markdown",
   "metadata": {},
   "source": [
    "## Sieci tensorowe i ich diagramy\n",
    "\n",
    "*Sieć tensorowa* jest zbiorem tensorów w którym indeksy są zwęrzane zgodnie z pewnym schematem. Oba wcześniejsze przykłady są przykładami sieci tensorowych. Bardzo wygodnym sposobem przedstawiania TN są tzw. *diagramy sieci tensorowych*. W tych diagramach tensory są przedstawiane jako pewne kształty (najczęściej koła), a indeksy są przedstawione jako linie wychodzące z tych kształtów.\n",
    "\n",
    "![image](pictures/tn_viz_placeholder.png)\n",
    "\n",
    "Sieć tensorowa jest więc reprezentowana przez zbiór kształtów połączonych liniami. Linia łącząca dwa tensory reprezentuje zwęrzanie konkretnych indeksów, a linie niepołączone z niczym reprezentują otwarte indeksy.\n",
    "\n",
    "![image](pictures/tn_con_placeholder.png)"
   ]
  },
  {
   "cell_type": "markdown",
   "metadata": {},
   "source": [
    "## Popularne struktury sieci tensorowych\n",
    "\n",
    "* MPS (*ang. - Matrix Product State*) jest rodziną sieci tensorowych, gdzie tensory są ułożone w łańcuch (jednowymiarową tablicę). Znane też pod nazwą *Tensor Train*. Bardzo często używane do opisu wielociałowego systemu kwantowego.\n",
    "\n",
    "![mps](pictures/mps_placeholder.png)\n",
    "\n",
    "wyróżnia się *otwarty warunek brzegowy*, w którym tensory na krawędzach mają mniejszą rangę oraz *zamknięty warunek brzegowy*, gdzie wszystkie tensory mają tą samą rangę, ostatni tensor łączy się z pierwszym. \n",
    "\n",
    "* PEPS (*ang. - Projected Entangled Pair States*) jest naturalną generalizacją MPS do wyższego wymiaru. Najczęściej rozważanym przypadkiem jest przypadek dwuwymiarowy, w którym tensory są ułożone w dwuwymiarową kratę. Warunki brzegowe są takie same jak w MPS\n",
    "\n",
    "![peps](pictures/peps_placeholder.png)\n",
    "\n",
    "Warto przy tym wspomnieć, że dokładne zwężanie sieci PEPS jest bardzo drogie obliczeniowo, dlatego stosuje się rózne metody heurystyczne\n"
   ]
  },
  {
   "cell_type": "markdown",
   "metadata": {},
   "source": [
    "# Bibliografia\n",
    "* Orús, R. (2014). A practical introduction to tensor networks: Matrix product states and projected entangled pair states. *Annals of Physics*, *349*, 117-158.\n",
    "* https://www.tensors.net/ - strona z materiałami szkoleniowymi i tutorialami dotyczącymi budowania i używania sieci tensorowych"
   ]
  }
 ],
 "metadata": {
  "kernelspec": {
   "display_name": "Julia 1.11.3",
   "language": "julia",
   "name": "julia-1.11"
  },
  "language_info": {
   "file_extension": ".jl",
   "mimetype": "application/julia",
   "name": "julia",
   "version": "1.11.3"
  }
 },
 "nbformat": 4,
 "nbformat_minor": 2
}
