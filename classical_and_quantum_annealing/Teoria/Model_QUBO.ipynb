{
 "cells": [
  {
   "cell_type": "markdown",
   "metadata": {},
   "source": [
    "# Model QUBO\n",
    "\n",
    "**Quadratic Unconstrained Binary Optimization (QUBO)** to model do rozwiązywania problemów optymalizacji kombinatorycznej. Jak sugeruje nazwa, dotyczy on modeli optymalizacyjnych (O), w których występują zależności kwadratowe (Q) między zmiennymi binarnymi (B), brak ograniczeń (U). Co zaskakujące, warunki QUBO spełnia duża klasa problemów, takich jak MAX-CUT, problem komiwojażera czy harmonogramowanie zadań.  \n",
    "\n",
    "## Model QUBO - definicja\n",
    "Dla danej symetrycznej macierzy $Q$, należy znaleźć binarny wektor $\\bm{x}^*$, taki że:  \n",
    "\n",
    "$$ \\bm{x}^* = \\arg \\min_x \\bm{x}Q\\bm{x}^T = \\sum_i \\sum_j Q_{ij} x_i x_j$$  \n",
    "\n",
    "Często przekształca się macierz $Q$ do formy górnotrójkątnej - dla wszystkich $i$, $j$, gdzie $j > i$, zastępuje się element powyżej przekątnej $Q_{ij}$ przez $Q_{ij} + Q_{ji}$. Następnie wszystkie elementy poniżej przekątnej $Q_{ji}$ dla $j < i$ zamienia się na 0.  \n",
    "\n",
    "Warto zauważyć, że dla zmiennych binarnych zachodzi $x^2 = x$ ($0^2=0$, $1^2=1$). Pozwala to podzielić QUBO na część liniową znajdującą się na diagonali oraz część kwadratową:  \n",
    "\n",
    "$$ \\bm{x}Q\\bm{x}^T =  \\sum_i Q_{ii} x_i + \\sum_{i \\neq j} Q_{ij} x_i x_j$$"
   ]
  },
  {
   "cell_type": "markdown",
   "metadata": {},
   "source": [
    "## Rozwiązywanie QUBO - przykład\n",
    "\n",
    "Podążając za przykładem spróbujemy lepiej zrozumieć, w jaki sposób można przekształcić problemy w formę QUBO.\n",
    "Na początek rozważmy następujący problem optymalizacyjny - chcemy zminimalizować wartość wyrażenia:\n",
    "$$\n",
    "y = -5x_1 -3x_2 -8x_3 - 6x_4 + 4x_1x_2 + 8x_1x_3 + 2x_2x_3 + 10x_3x_4\n",
    "$$\n",
    "\n",
    "Obserwacje:  \n",
    "1. $y$ składa się z części liniowej $-5x_1 -3x_2 -8x_3 - 6x_4$ oraz części kwadratowej $4x_1x_2 + 8x_1x_3 + 2x_2x_3 + 10x_3x_4$.  \n",
    "\n",
    "2. Ponieważ dla zmiennych binarnych $x_i = x_i^2$, w części liniowej można zastąpić każdą zmienną jej kwadratem:  \n",
    "$$  \n",
    "-5x_1^2 -3x_2^2 -8x_3^2 - 6x_4^2  \n",
    "$$  \n",
    "\n",
    "co daje postać homogeniczną:\n",
    "$$\n",
    "y=-5x_1^2 -3x_2^2 -8x_3^2 - 6x_4^2+4x_1x_2 + 8x_1x_3 + 2x_2x_3 + 10x_3x_4\n",
    "$$\n",
    "\n",
    "3. Następnie możemy przekształcić model do następującej postaci macierzowej:  \n",
    "$$  \n",
    "y = [x_1 \\, x_2 \\, x_3 \\, x_4] \\begin{bmatrix}  \n",
    "-5 & 4 & 8 & 0 \\\\  \n",
    "0 & -3 & 2 & 0 \\\\  \n",
    "0 & 0 & -8 & 10 \\\\  \n",
    "0 & 0 & 0 & -6  \n",
    "\\end{bmatrix}  \n",
    "\\begin{bmatrix}  \n",
    "x_1 \\\\  \n",
    "x_2 \\\\  \n",
    "x_3 \\\\  \n",
    "x_4  \n",
    "\\end{bmatrix}  \n",
    "$$  \n",
    "\n",
    "lub krócej:  \n",
    "$$  \n",
    "y = \\arg \\min_x \\bm{x}Q\\bm{x}^T  \n",
    "$$  \n",
    "Należy zauważyć, że stosujemy tu konwencję zachowania $Q$ jako macierzy górnotrójkątnej.  \n",
    "\n",
    "4. Poza wymogiem binarności zmiennych decyzyjnych, QUBO jest modelem nieograniczonym, gdzie wszystkie dane problemu są zawarte w macierzy $Q$. Fakt ten sprawia, że model QUBO jest atrakcyjną formą dla wielu problemów optymalizacyjnych.  "
   ]
  },
  {
   "cell_type": "code",
   "execution_count": 1,
   "metadata": {},
   "outputs": [
    {
     "name": "stdout",
     "output_type": "stream",
     "text": [
      "rozwiązanie: x_1 = 1, x_2 = 0, x_3 = 0, x_4 = 1, \n",
      "y_min = -11\n"
     ]
    }
   ],
   "source": [
    "# Metota naiwnego wyczerpującego przeszukiwania\n",
    "\n",
    "import numpy as np\n",
    "from itertools import product\n",
    "from math import inf\n",
    "from copy import deepcopy\n",
    "\n",
    "Q = np.array([[-5, 4, 8, 0], [0, -3, 2, 0], [0, 0, -8, 10], [0, 0, 0, -6]])\n",
    "\n",
    "solution = inf\n",
    "for x in product([0, 1], repeat=4):\n",
    "    x = np.array(x)\n",
    "    new_solution = x @ Q @ x.T\n",
    "    if new_solution < solution:\n",
    "        solution = deepcopy(new_solution)\n",
    "        solution_vector = deepcopy(x)\n",
    "\n",
    "print(\"rozwiązanie:\", end = \" \")\n",
    "for idx, i in enumerate(solution_vector):\n",
    "    print(f\"x_{idx + 1} = {i},\", end = \" \")\n",
    "print(f\"\\ny_min = {solution}\")"
   ]
  },
  {
   "cell_type": "markdown",
   "metadata": {},
   "source": [
    "# Podobieństwo między QUBO a modelem Isinga\n",
    "\n",
    "Nie sposób nie zauważyć, że wyrażenia opisujące QUBO i model Isinga są bliźniaczo podobne\n",
    "\n",
    "$$  \n",
    "H(\\textbf{s}) = \\sum_{i < j} J_{ij} s_i s_j + \\sum_i h_i s_i  \n",
    "\\quad \\text{oraz} \\quad \\bm{x}Q\\bm{x}^T =  \\sum_{i \\neq j} Q_{ij} x_i x_j +  \\sum_i Q_{ii} x_i $$ \n",
    "gdzie zakładamy, że $\\textbf{J}$ i $\\textbf{Q}$ są macierzami górnotrójkątnymi, $i = 1, \\ldots, N$, a różnicą są wartości $s_i = \\pm 1$, $x_i\\in\\lbrace 0, 1\\rbrace$ .  \n",
    "\n",
    "W rzeczywistości rozwiązanie QUBO i znajdowanie stanów podstawowych modelu Isinga to równoważne problemy! Można je stosunkowo łatwo przekształcić między sobą za pomocą następującego podstawienia:\n",
    "\n",
    "$$  \n",
    "x_i = \\frac{s_i + 1}{2}  \n",
    "$$  \n",
    "$$  \n",
    "s_i = 2x_i - 1  \n",
    "$$  \n",
    "\n",
    "Podstawiając te zmienne do odpowiednich wzorów, otrzymujemy:\n",
    "\n",
    "$$  \n",
    "Q_{ij} = 4 J_{ij}  \n",
    "$$  \n",
    "$$  \n",
    "Q_{ii} = 2h_i - 2\\sum_{j \\neq i} J_{ij}  \n",
    "$$  \n",
    "\n",
    "oraz\n",
    "\n",
    "$$  \n",
    "J_{ij} = \\frac{1}{4} Q_{ij}  \n",
    "$$  \n",
    "$$  \n",
    "h_{i} = \\frac{1}{2}Q_{ii} + \\frac{1}{4} \\sum_{j \\neq i} Q_{ij}  \n",
    "$$  \n",
    "\n",
    "Należy pamiętać, że transformacja generuje pewną dodatkową stałą, więc uzyskane wartości funkcji celu nie mogą być porównywane bezpośrednio."
   ]
  },
  {
   "cell_type": "markdown",
   "metadata": {},
   "source": [
    "TODO : opis, max-cut, zamiana modeli kod"
   ]
  },
  {
   "cell_type": "code",
   "execution_count": null,
   "metadata": {},
   "outputs": [],
   "source": [
    "# Zamiana między modelami. "
   ]
  },
  {
   "cell_type": "markdown",
   "metadata": {},
   "source": [
    "## Przykład - zapisanie problemu komiwojażera jako QUBO\n",
    "\n",
    "$$\n",
    "H_A = A \\sum_{v=1}^n (1 - \\sum_{j=1}^N x_{v, j})^2 + A \\sum_{j=1}^n (1 - \\sum_{v=1}^N x_{v, j})^2 + A \\sum_{(u,v)\\notin E} \\sum_{j=1}^N x_{u,j}x_{v, j+1}\n",
    "$$\n",
    "\n",
    "$$\n",
    "H_B = B \\sum_{(u, v) \\in E} W_{uv} \\sum_{j=1}^N x_{u, j} x_{v, j}\n",
    "$$\n",
    "\n",
    "$$\n",
    "H = H_A + H_B\n",
    "$$"
   ]
  },
  {
   "cell_type": "code",
   "execution_count": null,
   "metadata": {},
   "outputs": [
    {
     "data": {
      "image/png": "[encoded data removed]",
      "text/plain": [
       "<Figure size 640x480 with 1 Axes>"
      ]
     },
     "metadata": {},
     "output_type": "display_data"
    },
    {
     "name": "stdout",
     "output_type": "stream",
     "text": [
      "  (0, 0) (0, 1) (0, 2) (0, 3) (1, 0) (1, 1) (1, 2) ... (3, 3) energy num_oc.\n",
      "0      0      1      0      0      0      0      1 ...      1  -94.8       1\n",
      "1      0      1      0      0      1      0      0 ...      1  -94.8       1\n",
      "2      0      0      1      0      0      1      0 ...      0  -94.8       1\n",
      "3      0      1      0      0      0      0      1 ...      1  -94.8       1\n",
      "4      0      0      1      0      0      0      0 ...      0  -94.8       1\n",
      "5      0      1      0      0      1      0      0 ...      1  -94.8       1\n",
      "6      0      1      0      0      0      0      1 ...      1  -94.8       1\n",
      "7      1      0      0      0      0      1      0 ...      0  -94.8       1\n",
      "8      1      0      0      0      0      1      0 ...      0  -94.8       1\n",
      "9      0      1      0      0      1      0      0 ...      1  -94.8       1\n",
      "['BINARY', 10 rows, 10 samples, 16 variables]\n"
     ]
    },
    {
     "ename": "",
     "evalue": "",
     "output_type": "error",
     "traceback": [
      "\u001b[1;31mThe Kernel crashed while executing code in the current cell or a previous cell. \n",
      "\u001b[1;31mPlease review the code in the cell(s) to identify a possible cause of the failure. \n",
      "\u001b[1;31mClick <a href='https://aka.ms/vscodeJupyterKernelCrash'>here</a> for more info. \n",
      "\u001b[1;31mView Jupyter <a href='command:jupyter.viewOutput'>log</a> for further details."
     ]
    }
   ],
   "source": [
    "import dwave_networkx as dnx\n",
    "import networkx as nx\n",
    "import matplotlib.pyplot as plt\n",
    "from dwave.samplers import SimulatedAnnealingSampler\n",
    "\n",
    "def qubo_dict_to_matrix(qubo_dict):\n",
    "    ...\n",
    "\n",
    "G = nx.Graph()\n",
    "\n",
    "G.add_weighted_edges_from({(0, 1, 7), (0, 2, 1), (1, 2, 3), (1, 3, 4), (2, 3, 2)})\n",
    "\n",
    "\n",
    "pos = nx.spring_layout(G)\n",
    "nx.draw(G, pos, with_labels=False, node_size=500)\n",
    "nx.draw_networkx_labels(G, pos, font_size=12, font_color='black')\n",
    "edge_labels = nx.get_edge_attributes(G, 'weight')\n",
    "nx.draw_networkx_edge_labels(G, pos, edge_labels=edge_labels, font_size=10)\n",
    "\n",
    "plt.axis('off')\n",
    "plt.show()\n",
    "\n",
    "sampler = SimulatedAnnealingSampler()\n",
    "\n",
    "QUBO = dnx.traveling_salesman_qubo(G)\n",
    "sampleset = sampler.sample_qubo(QUBO, num_reads=10)\n",
    "solution = sampleset\n",
    "\n",
    "print(solution)\n"
   ]
  }
 ],
 "metadata": {
  "kernelspec": {
   "display_name": "szkolenia",
   "language": "python",
   "name": "python3"
  },
  "language_info": {
   "codemirror_mode": {
    "name": "ipython",
    "version": 3
   },
   "file_extension": ".py",
   "mimetype": "text/x-python",
   "name": "python",
   "nbconvert_exporter": "python",
   "pygments_lexer": "ipython3",
   "version": "3.12.9"
  }
 },
 "nbformat": 4,
 "nbformat_minor": 2
}
