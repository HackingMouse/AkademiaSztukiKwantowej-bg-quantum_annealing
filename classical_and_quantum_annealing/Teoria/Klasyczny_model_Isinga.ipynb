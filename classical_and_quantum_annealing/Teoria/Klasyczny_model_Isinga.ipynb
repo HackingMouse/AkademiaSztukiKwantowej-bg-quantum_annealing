{
 "cells": [
  {
   "cell_type": "markdown",
   "metadata": {},
   "source": [
    "# Klasyczny model Isinga\n",
    "Model, wprowadzony na początku lat 20. XX wieku przez Ernsta Isinga, pierwotnie miał być modelem ferromagnetyzmu. Od tego czasu stał się fundamentem zrozumienia przejść fazowych i emergentnych właściwości w różnych układach fizycznych. Co ciekawe, znalazł zastosowania również poza fizyką - znajduje zastosowania w takich dziedzinach jak finanse, dynamika społeczna oraz optymalizacja w zagadnieniach Informatycznych. W tym kursie skupimy się na jednym problemie z nim związanym: znalezieniu stanu podstawowego (tj. stanu o najniższej energii) modelu Isinga oraz widma niskich energii.\n",
    "\n",
    "\n",
    "## Definicja\n",
    "\n",
    "Rozważmy wektor zmiennych binarnych $\\bm{s} = (s_1, s_2, \\ldots, s_N)$, gdzie $s_i = \\pm 1$. Zmienne te nazywane są **spinami** i mogą przyjmować jeden z dwóch stanów: w górę ($+1$) lub w dół ($-1$). Spiny są rozmieszczone na pewnym grafie prostym $G$, który opisuje interakcje między nimi. Krawędzie grafu $G$ (oznaczane jako $E(G)$) określają, które spiny oddziałują ze sobą. Siła interakcji (lub *coupling*) między $s_i$ a $s_j$ jest oznaczana jako $J_{ij} \\in \\mathbb{R}$. Dodatkowo każdy spin poddawany jest działaniu zewnętrznego pola magnetycznego (lub *bias* albo *obciążenie*) $h_i \\in \\mathbb{R}$,  $\\bm{h} = (h_1, h_2, \\ldots, h_N)$. Energia układu opisana jest następującą funckją (**hamiltonianem**):\n",
    "\n",
    "$$\n",
    "H(\\bm{s}) = \\sum_{(i, j) \\in E(G)} J_{ij} s_i s_j + \\sum_{i=1}^{N} h_i s_i\n",
    "$$\n",
    "\n",
    "Każda realizacja $\\bm{s}$ jest nazywana **stanem** albo **konfiguracją**. Trójkę $(G, J, h)$ nazywamy **instancją**."
   ]
  },
  {
   "cell_type": "markdown",
   "metadata": {},
   "source": [
    "## Pierwsza instancja\n",
    "\n",
    "Zaczniemy od utworzenia instancji. Następnie policzymy jej energię ze wzoru i metodą macierzową.\n",
    "\n",
    "TODO: Write better"
   ]
  },
  {
   "cell_type": "code",
   "execution_count": 1,
   "metadata": {},
   "outputs": [
    {
     "data": {
      "image/png": "[encoded data removed]",
      "text/plain": [
       "<Figure size 640x480 with 1 Axes>"
      ]
     },
     "metadata": {},
     "output_type": "display_data"
    }
   ],
   "source": [
    "# Instancja razem z obrazkiem\n",
    "\n",
    "import random\n",
    "import networkx as nx\n",
    "import matplotlib.pyplot as plt\n",
    "\n",
    "random.seed(7)\n",
    "\n",
    "# Tworzymy graf\n",
    "instance = nx.grid_2d_graph(3, 3)\n",
    "\n",
    "# Nadajemy losowe wartości spinu, h i J\n",
    "nx.set_node_attributes(instance, {node: random.choice([-1, 1]) for node in instance.nodes}, \"spin\")\n",
    "nx.set_node_attributes(instance, {node: random.choice([i / 4 for i in range(-4, 5)]) for node in instance.nodes}, \"h\")\n",
    "nx.set_edge_attributes(instance, {edge: random.choice([i / 4 for i in range(-4, 5)]) for edge in instance.edges}, \"J\")\n",
    "\n",
    "# Ustalamy kolor wierzchołków w zalezności od wartości spinu, -1 (dół) czarny i +1 (góra) biały\n",
    "node_colors = [\"white\" if instance.nodes[node][\"spin\"] == 1 else \"black\" for node in instance.nodes]\n",
    "\n",
    "\n",
    "# Rysujemy instancję, której będziemy używać\n",
    "pos={node: node for node in instance.nodes}\n",
    "nx.draw(instance, pos, node_color=node_colors,  node_size=900, font_weight='bold')\n",
    "\n",
    "# rysujemy wierzchołki i pokazujemy wartość h na nich\n",
    "node_labels = {node: f\"{instance.nodes[node]['h']}\" for node in instance.nodes}\n",
    "for node in instance.nodes:\n",
    "    label = f\"{instance.nodes[node]['h']}\"\n",
    "    x, y = pos[node]  \n",
    "    font_color = \"white\" if instance.nodes[node][\"spin\"] == -1 else \"black\"\n",
    "    plt.text(x, y, label, fontsize=12, ha='center', va='center', color=font_color)\n",
    "ax = plt.gca() # to get the current axis\n",
    "ax.collections[0].set_edgecolor(\"black\") \n",
    "\n",
    "# wpisujemy wartości \"J\" na krawędziach\n",
    "edge_labels = {(u, v): f\"{data['J']}\" for u, v, data in instance.edges(data=True)}\n",
    "nx.draw_networkx_edge_labels(instance, pos, edge_labels=edge_labels)\n",
    "\n",
    "plt.show()"
   ]
  },
  {
   "cell_type": "markdown",
   "metadata": {},
   "source": [
    "### Energia obliczana ze wzoru $H(\\bm{s}) = \\sum_{(i, j) \\in E(G)} J_{ij} s_i s_j + \\sum_{i=1}^{N} h_i s_i$"
   ]
  },
  {
   "cell_type": "code",
   "execution_count": 2,
   "metadata": {},
   "outputs": [
    {
     "name": "stdout",
     "output_type": "stream",
     "text": [
      "Wartość energii wynosi: 1.25\n"
     ]
    }
   ],
   "source": [
    "# Obliczenie energii ze wzoru\n",
    "\n",
    "spins = {node: instance.nodes[node][\"spin\"] for node in instance.nodes}\n",
    "h = {node: instance.nodes[node][\"h\"] for node in instance.nodes}\n",
    "J = {(u, v): data['J'] for u, v, data in instance.edges(data=True)}\n",
    "\n",
    "def navie_energy_calculation(spins, J, h, instance):\n",
    "    # Liczymy w dwóch pętlach\n",
    "    energy_naive = 0\n",
    "\n",
    "    # Część liniowa\n",
    "    for node in instance.nodes:\n",
    "        energy_naive += spins[node] * h[node]\n",
    "\n",
    "    # Część kwadratowa\n",
    "    for (u, v) in instance.edges:\n",
    "        energy_naive += spins[u] * spins[v] * J[(u, v)]\n",
    "\n",
    "    return energy_naive\n",
    "\n",
    "energy_naive = navie_energy_calculation(spins, J, h, instance)\n",
    "print(f\"Wartość energii wynosi: {energy_naive}\")"
   ]
  },
  {
   "cell_type": "markdown",
   "metadata": {},
   "source": [
    "### Metoda macierzowa\n",
    "Z punktu widzenia efektywności obliczeń, warto skorzystać z narzędzi algebry liniowej. Rozważmy macierz sąsiedztwa grafu $G$, przyjmując każdy $J_{ij}$ jako wagę przypisaną do krawędzi. Ponieważ graf $G$ jest grafem prostym, jest on grafem nieskierowanym, więc wartości $J_{ij} = J_{ji}$. Symetria względem przekątnej pozwala nam na uproszczenia (i uniknięcie zbędnej pracy) - możemy zająć się jedynie elementami $J_{ij}$, gdzie $i < j$, to znaczy macierzą górnotrójkątną. Zwyczajowo oznaczaną jako $\\bm{J}$. Wówczas równanie hamiltonianu $H(\\bm{s})$ przyjmuje postać:\n",
    "\n",
    "$$\n",
    "H(\\bm{s}) = \\bm{s}\\bm{J}\\bm{s}^{T} + \\bm{h}\\bm{s}^{T}\n",
    "$$\n"
   ]
  },
  {
   "cell_type": "code",
   "execution_count": 4,
   "metadata": {},
   "outputs": [
    {
     "name": "stdout",
     "output_type": "stream",
     "text": [
      "Wartość energii wynosi: 1.25\n"
     ]
    }
   ],
   "source": [
    "# Obiczenie energii w wersji macierzowej\n",
    "import numpy as np\n",
    "\n",
    "# Zamiana grafowej reprezentacji na macierzową. \n",
    "# UWAGA: od wersji python 3.7 słowniki zachowują kolejność, więc możemy bezpiecznie zamieniać je na vektory\n",
    "def dict_to_vect(d: dict):\n",
    "    return np.array(list(d.values()))\n",
    "\n",
    "spins_vector = dict_to_vect(spins)\n",
    "h_vector = dict_to_vect(h)\n",
    "\n",
    "# Macierz górnotrójkątna J\n",
    "def dict_to_matrix(instance: nx.Graph, J: dict):\n",
    "    n = len(instance)\n",
    "    J_matrix = np.zeros(shape=(n,n))\n",
    "    renum = {node: idx for idx, node in enumerate(instance.nodes)}\n",
    "    for (u, v), J_value in J.items():\n",
    "        i = renum[u]\n",
    "        j = renum[v]\n",
    "        if i > j:\n",
    "            i, j = j, i\n",
    "        J_matrix[i, j] = J_value\n",
    "    return J_matrix\n",
    "\n",
    "J_matrix = dict_to_matrix(instance, J)\n",
    "\n",
    "# Liczymy energię z kolejnego wzoru\n",
    "energy_vectorized = spins_vector @ J_matrix @ spins_vector.T + spins_vector @ h_vector\n",
    "print(f\"Wartość energii wynosi: {energy_vectorized}\")\n",
    "\n"
   ]
  },
  {
   "cell_type": "markdown",
   "metadata": {},
   "source": [
    "### Czym się różnią te metody?\n",
    "\n",
    "Chociaż mamy do czynienia z różnymi przedstawieniami tej samej funkcji, dającymi takie same wyniki, to ich efektywność znacznie się różni. O ile wykonanie obliczeń w obu przypadkach było bardzo szybkie, to dla dużych instancji liczenie energii metodą macierzową jest zauważalnie szybsze. Różnice wywołane są wykorzystaniem biblioteki NumPy, która posiada efektywne niskopoziomowe implementacje obliczeń na macierzach."
   ]
  },
  {
   "cell_type": "code",
   "execution_count": 15,
   "metadata": {},
   "outputs": [
    {
     "name": "stdout",
     "output_type": "stream",
     "text": [
      "Przeciętny czas obliczeń dla metody naiwnej używając 10 wywołań: 0.016454 sekund\n",
      "Przeciętny czas obliczeń dla metody macierzowej używając 10 wywołań: 0.000072 sekund\n",
      "W analizowanym przypadku metoda macierzowa jest 228 razy szybsza\n"
     ]
    }
   ],
   "source": [
    "import timeit\n",
    "\n",
    "# Przygotujmy dużą losową instancję\n",
    "\n",
    "big_instance = nx.complete_graph(1000)\n",
    "\n",
    "# Nadajemy losowe wartości spinu, h i J\n",
    "nx.set_node_attributes(big_instance, {node: random.choice([-1, 1]) for node in big_instance.nodes}, \"spin\")\n",
    "nx.set_node_attributes(big_instance, {node: random.choice([i / 4 for i in range(-4, 5)]) for node in big_instance.nodes}, \"h\") \n",
    "nx.set_edge_attributes(big_instance, {edge: random.choice([i / 4 for i in range(-4, 5)]) for edge in big_instance.edges}, \"J\")\n",
    "\n",
    "# Powtarzamy poprzednie procedury\n",
    "spins_big = {node: big_instance.nodes[node][\"spin\"] for node in big_instance.nodes}\n",
    "h_big = {node: big_instance.nodes[node][\"h\"] for node in big_instance.nodes}\n",
    "J_big = {(u, v): data['J'] for u, v, data in big_instance.edges(data=True)}\n",
    "\n",
    "spins_big_vector = dict_to_vect(spins_big)\n",
    "h_big_vector = dict_to_vect(h_big)\n",
    "J_big_matrix = dict_to_matrix(big_instance, J_big)\n",
    "\n",
    "num_runs = 10\n",
    "time1 = timeit.timeit(lambda: navie_energy_calculation(spins_big,J_big, h_big, big_instance), number=num_runs)\n",
    "time2 = timeit.timeit(lambda: spins_big_vector @ J_big_matrix @ spins_big_vector.T + spins_big_vector @ h_big_vector, number=num_runs)\n",
    "\n",
    "print(f\"Przeciętny czas obliczeń dla metody naiwnej używając {num_runs} wywołań: {time1 / 100:.6f} sekund\")\n",
    "print(f\"Przeciętny czas obliczeń dla metody macierzowej używając {num_runs} wywołań: {time2 / 100:.6f} sekund\")\n",
    "print(f\"W analizowanym przypadku metoda macierzowa jest {time1/time2:.0f} razy szybsza\")\n"
   ]
  },
  {
   "cell_type": "markdown",
   "metadata": {},
   "source": [
    "##### **W dalszej części tego szkolenia będziemy używać metody macierzowej do liczenia energii!**"
   ]
  },
  {
   "cell_type": "markdown",
   "metadata": {},
   "source": [
    "## Interpretacja fizyczna modelu Isinga\n",
    "\n",
    "Tradycyjnie w fizyce model Isinga opisuje się na $d$-wymiarowej sieci (w naszej definicji graf $G$). W modelu ferromagnetyzmu, będącym pierwotnym badaniem Isinga, można wyobrazić sobie węzły sieci jako atomy materiału magnetycznego. Każdy atom posiada moment magnetyczny (spin), który może być skierowany albo „w górę”, albo „w dół”. W ten sposób, jeśli wszystkie węzły są skierowane „w górę” lub „w dół”, mamy do czynienia z ferromagnetykiem. Z kolei, jeśli wszystkie sąsiednie węzły są skierowane w przeciwnych kierunkach, powstaje antyferromagnetyk, charakteryzujący się brakiem (lub zanikiem) magnetyzacji. W tej interpretacji $h_i$ reprezentuje zewnętrzne pole magnetyczne, które wymusza skierowanie momentu magnetycznego w określonym kierunku. Oddziaływania między spinami $J_i$ mogą być ferromagnetyczne, jeśli sprzyjają skierowaniu sąsiadujących węzłów w tym samym kierunku; w przeciwnym razie nazywane są antyferromagnetycznymi. Stan, w którym spiny są losowo skierowane w górę lub w dół, często nazywany jest szkłem spinowym (spin glass)."
   ]
  },
  {
   "cell_type": "markdown",
   "metadata": {},
   "source": [
    "# Stany niskoenergetyczne\n",
    "\n",
    "Jednym z podstawowych problemów dotyczących modelu Isinga jest poszukiwanie **stanu podstawowego** - stanu o najmniejszej energii. Zatem interesuje nas minimalizacja wartości Hamiltonianu:\n",
    "\n",
    "$$\n",
    "\\min_{\\bm{s}} H(\\bm{s})\n",
    "$$\n",
    "\n",
    "W ogólności jest to problem NP-trudny.\n",
    "\n",
    "\n"
   ]
  },
  {
   "cell_type": "markdown",
   "metadata": {},
   "source": [
    "## Problemu podziału jako model Isinga\n",
    "\n",
    "Formalnie: mając dany zbiór $N$ dodatnich liczb całkowitych $S = \\lbrace n_1, \\ldots, n_N \\rbrace$, chcemy znaleźć dwa rozłączne podzbiory $X, Y \\subset S$, $X \\cap Y = \\emptyset$, $X \\cup Y = S$ takie, że sumy ich elementów są sobie równe tj.\n",
    "$$\n",
    "\\sum_{n \\in X}n = \\sum_{n' \\in Y} n'  \\Leftrightarrow \\sum_{n \\in X}n - \\sum_{n' \\in Y} n'=0\n",
    "$$\n",
    "bądź też różnica jest minimalna (nie zawsze rozwiązanie optymalne istnieje). Hamiltonian przyjmuje postać\n",
    "\n",
    "$$\n",
    "H = A (\\sum_{i=1}^N n_i s_i)^2\n",
    "$$\n",
    "\n",
    "gdzie $n_i \\in S$, $s_i = \\pm 1$ oraz $A > 0$ jest pewną stałą. Widać, że optymalne rozwiązanie $H=0$ można osiągnąć tylko wtedy, gdy suma $n_i$ stojących przy spinach $+1$ jest równa sumie $n_i$ stojących przy spinach $-1$. \n",
    "\n",
    "Podany Hamiltonian $H$ jest Hamiltonianem Isinga, widać to po pewnych przekształceniach\n",
    "\n",
    "$$\n",
    "H = A (\\sum_{i=1}^N n_i s_i)^2 = A(\\sum_{i,j} 2 n_i n_j s_i s_j + \\sum_{i=1}^N n_i^2 s_i^2) = A \\sum_{i,j} J_{ij} s_i s_j + C\n",
    "$$\n",
    "\n",
    "gdzie $C=A\\sum_{i=1}^N n_i^2 s_i^2$ jest pewną stałą, która nie ma wpływu na rozwiązanie, a $J_{ij} = 2 n_i n_j$.\n",
    "\n",
    "#### O problemie podziału mniej formalnie i wyprowadzenie Hamiltonianu\n",
    "\n",
    "Problem podziału najłatwiej będzie wyjaśnić na życiowym przykładzie - podziale spadku. Na majątek składa się biżuteria, książki, antyki. Mamy dwóch spadkobierców, każdy ma otrzymać taką samą wartość majątku. Zakładamy, że przedmiotów nie można \"rozmieniać\" ani sprzedać, należy rozdać cały majątek. Jak dokonać tego najbardziej sprawiedliwie? Dobrać podział tak, aby różnica była możliwie najmniejsza.\n",
    "\n",
    "Spróbujemy przedstawić ten problem za pomocą Hamiltonianu. Optymalne rozwiązanie zakłada równy podział (różnica wynosi 0), natomiast nas będzie interesować minimalna różnica:\n",
    "$$\n",
    "\\vert\\sum_{n \\in X}n - \\sum_{n' \\in Y} n'\\vert= \\min  \\Leftrightarrow \\vert\\sum_{n \\in X}1\\cdot n + \\sum_{n' \\in Y} (-1)\\cdot n'\\vert=\\min \n",
    "$$\n",
    "$$\n",
    "\\vert\\sum_{n \\in S}(\\pm1)n\\vert= \\vert\\sum_{i=1}^N n_i s_i\\vert=\\min \\Leftrightarrow (\\sum_{i=1}^N n_i s_i)^2=\\min, \n",
    "$$\n",
    "gdzie\n",
    "$s_i=1$ oznacza, że $n_i \\in X$, a $s_i=-1$, że $n_i\\in Y$. \n",
    "\n"
   ]
  },
  {
   "cell_type": "code",
   "execution_count": null,
   "metadata": {},
   "outputs": [
    {
     "name": "stdout",
     "output_type": "stream",
     "text": [
      "Najlepsza znaleziona wartość Hamiltonianu:  0\n",
      "Rozwiązanie:  (-1, -1, 1, -1, 1)\n",
      "Podział:  [4, 6] [2, 3, 5]\n"
     ]
    },
    {
     "ename": "",
     "evalue": "",
     "output_type": "error",
     "traceback": [
      "\u001b[1;31mThe Kernel crashed while executing code in the current cell or a previous cell. \n",
      "\u001b[1;31mPlease review the code in the cell(s) to identify a possible cause of the failure. \n",
      "\u001b[1;31mClick <a href='https://aka.ms/vscodeJupyterKernelCrash'>here</a> for more info. \n",
      "\u001b[1;31mView Jupyter <a href='command:jupyter.viewOutput'>log</a> for further details."
     ]
    }
   ],
   "source": [
    "## Przykładowy problem podziału\n",
    "## rozwiążemy go metodą wyczerpującego przeszukiwania - sprawdzanie wszystkich możliwości\n",
    "import numpy as np\n",
    "from itertools import product\n",
    "from math import inf\n",
    "\n",
    "# zadany zbiór\n",
    "S = [2, 3, 4, 5, 6] \n",
    "\n",
    "def calculate_hamiltonian(S, spins, A = 1):\n",
    "    return A * sum([S[i] * spins[i] for i in range(len(S))])**2\n",
    "\n",
    "best_energy = inf\n",
    "best_solution = None\n",
    "for solution in product([-1, 1], repeat=len(S)):\n",
    "    energy = calculate_hamiltonian(S, solution)\n",
    "    if energy < best_energy:\n",
    "        best_energy = energy\n",
    "        best_solution = solution\n",
    "\n",
    "S_1 = []\n",
    "S_2 = []\n",
    "for idx, spin in enumerate(best_solution):\n",
    "    if spin == 1:\n",
    "        S_1.append(S[idx])\n",
    "    elif spin == -1:\n",
    "        S_2.append(S[idx])\n",
    "    else:\n",
    "        raise ValueError(\"Coś zlego się stało ze spinem\")\n",
    "\n",
    "print(\"Najlepsza znaleziona wartość Hamiltonianu: \", best_energy)\n",
    "print(\"Rozwiązanie: \", best_solution)\n",
    "print(\"Podział: \", S_1, S_2)\n"
   ]
  },
  {
   "cell_type": "markdown",
   "metadata": {},
   "source": [
    "## Rozwiązanie problemu Isinga?\n",
    "\n",
    "Istnieje wiele algorytmów przeznaczonych do rozwiązania tego problemu. Na tym szkoleniu skupimy się na wybranych algorytmach klasycznych takich jak:    \n",
    "\n",
    "* Przeszukiwanie wyczerpujące\n",
    "* Symulowane wyżarzanie\n",
    "* Wyżarzanie równoległe\n",
    "* Branch and bound\n",
    "* Symulowana bifurkacja\n",
    "\n",
    "Oraz na metodzie **wyżarzania kwantowego** razem z zastosowaniem wyżarzaczy kwantowych firmy D-Wave. \n"
   ]
  },
  {
   "cell_type": "markdown",
   "metadata": {},
   "source": [
    "# Literatura\n",
    "\n",
    "- Dowolny podręcznik poświęcony mechanice statystycznej (ex. Luca Peliti: Statistical Mechanics in a Nutshell, R.J. Baxter: Exactly Solved Models in Statistical Mechanics, H.E. Stanley: Introduction to Phase Transitions and Critical Phenomena etc.)\n",
    "- Cipra, B. A. (1987). An introduction to the Ising model. *The American Mathematical Monthly*, 94(10), 937-959.\n",
    "- Lucas, A. (2014). Ising formulations of many NP problems. *Frontiers in Physics*, Volume 2\n"
   ]
  }
 ],
 "metadata": {
  "kernelspec": {
   "display_name": "szkolenia",
   "language": "python",
   "name": "python3"
  },
  "language_info": {
   "codemirror_mode": {
    "name": "ipython",
    "version": 3
   },
   "file_extension": ".py",
   "mimetype": "text/x-python",
   "name": "python",
   "nbconvert_exporter": "python",
   "pygments_lexer": "ipython3",
   "version": "3.12.9"
  }
 },
 "nbformat": 4,
 "nbformat_minor": 2
}
