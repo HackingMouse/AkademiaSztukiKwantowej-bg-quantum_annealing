{
 "cells": [
  {
   "cell_type": "markdown",
   "metadata": {},
   "source": [
    "# Wykorzystanie procesorów graficznych (GPU) w algorytmach heurystycznych\n",
    "\n",
    "Wykorzystamy paczkę CuPy"
   ]
  },
  {
   "cell_type": "markdown",
   "metadata": {},
   "source": [
    "## Wyżarzanie równoległe"
   ]
  },
  {
   "cell_type": "code",
   "execution_count": 2,
   "metadata": {},
   "outputs": [],
   "source": [
    "# Implementacja algorytmu wyżarzania równoległego używając własnego kernelu w CUDA\n",
    "import os\n",
    "import cupy as cp\n",
    "from typing import Optional\n",
    "from tqdm import tqdm\n",
    "\n",
    "from funkcje_pomocnicze import calculate_energy_gpu\n",
    "\n",
    "\n",
    "\n",
    "def parrarel_annealing_gpu(J, h, step_size: float, lambda_t_max: float, num_steps: int, num_trajectories: int,\n",
    "                       schedule: Optional[list] = None, dtype = cp.float32):\n",
    "    \n",
    "    n = len(h)\n",
    "    x = cp.zeros((n, num_trajectories), dtype=dtype)  # stan podstawowy dla H_innit = sum(x**2)\n",
    "    momentum = cp.zeros((n, num_trajectories), dtype=dtype)\n",
    "    state = cp.random.choice([dtype(-1.), dtype(1.)], size=(n, num_trajectories)) # losowy stan początkowy\n",
    "    step_size = dtype(step_size)\n",
    "\n",
    "    if schedule is None:\n",
    "        schedule = [dtype(lambda_t_max * (1 - i/(num_steps -1))) for i in range(num_steps)]  # dlaczego nie linspace? chodzi o typy\n",
    "\n",
    "    # cu_path = os.path.join(\"cuda_kernels\", \"pa_kernel.cu\")\n",
    "    # ptx_path = os.path.join(\"cuda_kernels\", \"pa_kernel.ptx\")\n",
    "    # command = f\"nvcc --ptx --define-macro N={n} --define-macro M={num_trajectories} {cu_path} -o {ptx_path}\"\n",
    "    \n",
    "    # os.system(command)\n",
    "    kernel = cp.RawModule(path=\"cuda_kernels/pa_kernel.ptx\")\n",
    "    parrarel_annealing_step = kernel.get_function(\"parrarel_annealing_step\")\n",
    "\n",
    "    threadsperblock = 256  # Ilość wątków w bloku,\n",
    "    blockspergrid_x = num_trajectories  # każdy blok zajmuje się trajektorią\n",
    "    blockspergrid_y = (n + threadsperblock - 1) // threadsperblock  # wystarczająca ilość bloków by pomieścić całą kolumnę \n",
    "    blockspergrid = (blockspergrid_x, blockspergrid_y)\n",
    "\n",
    "    x_new = cp.empty_like(x)\n",
    "    momentum_new = cp.empty_like(momentum)\n",
    "    state_new = cp.empty_like(state)\n",
    "\n",
    "    for k in tqdm(range(num_steps), desc=\"wyżarzanie równoległe GPU\"):\n",
    "   \n",
    "        lambda_t = schedule[k]\n",
    "        A = cp.matmul(J, state)\n",
    "        parrarel_annealing_step(blockspergrid, (threadsperblock,), (A, h, x, momentum, \n",
    "                                                               lambda_t, step_size, n,\n",
    "                                                               momentum_new, x_new, state_new))\n",
    "        momentum = momentum_new\n",
    "        x = x_new\n",
    "        state = state_new\n",
    "\n",
    "    return state, calculate_energy_gpu(J, h, state)\n"
   ]
  },
  {
   "cell_type": "code",
   "execution_count": 7,
   "metadata": {},
   "outputs": [
    {
     "name": "stderr",
     "output_type": "stream",
     "text": [
      "wyżarzanie równoległe GPU: 100%|██████████| 1000/1000 [00:00<00:00, 6984.60it/s]\n"
     ]
    },
    {
     "name": "stdout",
     "output_type": "stream",
     "text": [
      "-469.0\n"
     ]
    }
   ],
   "source": [
    "from funkcje_pomocnicze import read_instance, small_pegasus, test_pegasus\n",
    "J, h = read_instance(test_pegasus.path, convention=\"minus_half\")\n",
    "\n",
    "\n",
    "J = cp.asarray(J, dtype=cp.float32)\n",
    "h = cp.asarray(h, dtype=cp.float32)\n",
    "\n",
    "states, energy = parrarel_annealing_gpu(J, h, step_size=0.01, lambda_t_max=10, num_steps=1000, num_trajectories=5000)\n",
    "print(min(energy))"
   ]
  },
  {
   "cell_type": "code",
   "execution_count": 9,
   "metadata": {},
   "outputs": [
    {
     "name": "stderr",
     "output_type": "stream",
     "text": [
      "wyżarzanie równoległe GPU: 100%|██████████| 10000/10000 [00:43<00:00, 229.55it/s]\n"
     ]
    },
    {
     "name": "stdout",
     "output_type": "stream",
     "text": [
      "-12742.0\n"
     ]
    }
   ],
   "source": [
    "# E = -12772\n",
    "# best found -12742 steps 10^4 trajectories 2^10 time approx 43s\n",
    "# najperw trzeba raz przepuscić by kernel wszedł do pamięci podręcznej (można użyć mało kroków)\n",
    "from funkcje_pomocnicze import read_instance, full_pegasus\n",
    "J, h = read_instance(full_pegasus.path, convention=\"minus_half\")\n",
    "\n",
    "\n",
    "J = cp.asarray(J, dtype=cp.float32)\n",
    "h = cp.asarray(h, dtype=cp.float32)\n",
    "\n",
    "\n",
    "states, energy = parrarel_annealing_gpu(J, h, step_size=0.01, lambda_t_max=10, num_steps=10000, num_trajectories=2**10)\n",
    "print(min(energy))"
   ]
  },
  {
   "cell_type": "markdown",
   "metadata": {},
   "source": [
    "## Bruteforce"
   ]
  },
  {
   "cell_type": "code",
   "execution_count": 1,
   "metadata": {},
   "outputs": [],
   "source": [
    "# brute force CUDA\n",
    "\n",
    "import cupy as cp\n",
    "from tqdm import tqdm\n",
    "\n",
    "def select_lowest(energies, states, num_states):\n",
    "    \n",
    "    indices = cp.argpartition(energies, num_states)[:num_states]\n",
    "\n",
    "    low_energies = energies[indices]\n",
    "    low_states = states[indices]\n",
    "    return low_energies, low_states\n",
    "\n",
    "def sort_by_key(energies, states, num_states):\n",
    "    order = cp.argsort(energies)[:num_states]\n",
    "\n",
    "    low_energies = energies[order]\n",
    "    low_states = states[order]\n",
    "    return low_energies, low_states\n",
    "\n",
    "\n",
    "def brute_force_gpu(Q,  num_states: int, sweep_size_exponent: int = 10, threadsperblock: int = 256):\n",
    "    N, _ = Q.shape\n",
    "    if N > 64:\n",
    "        raise ValueError(\"Za wysoka wartość N. Ta implementacja wspiera co najwyżej 64 spiny (64-bitowy integer)\")\n",
    "    sweep_size = 2**sweep_size_exponent\n",
    "    num_chunks = 2**(N-sweep_size_exponent)\n",
    "\n",
    "   \n",
    "    brute_force_kernel = cp.RawModule(path=\"cuda_kernels/brute_force_kernel.ptx\")\n",
    "    compute_energies = brute_force_kernel.get_function(\"compute_energies\")\n",
    "\n",
    "    blockspergrid = sweep_size//threadsperblock\n",
    "    \n",
    "    final_energies = cp.array([])\n",
    "    final_states = cp.array([])\n",
    "    \n",
    "    for i in tqdm(range(num_chunks), desc=\"wyczerpujące przeszukiwanie\"):\n",
    "\n",
    "        energies = cp.empty(sweep_size, dtype=cp.float32)\n",
    "        states = cp.empty(sweep_size, dtype=cp.int64)\n",
    "        compute_energies((blockspergrid,), (threadsperblock,), \n",
    "                         (Q, cp.int32(N), cp.int32(sweep_size_exponent), energies, states, cp.int64(i)))\n",
    "\n",
    "        low_energies, low_states = select_lowest(energies, states, num_states)\n",
    "        \n",
    "        final_energies = cp.concatenate((final_energies, low_energies))\n",
    "        final_states = cp.concatenate((final_states, low_states))\n",
    "        if i != 0:\n",
    "\n",
    "            final_energies, final_states = select_lowest(final_energies, final_states, num_states)\n",
    "\n",
    "    return sort_by_key(final_energies, final_states, num_states)\n",
    "\n",
    "    "
   ]
  },
  {
   "cell_type": "code",
   "execution_count": 2,
   "metadata": {},
   "outputs": [
    {
     "name": "stderr",
     "output_type": "stream",
     "text": [
      "wyczerpujące przeszukiwanie: 100%|██████████| 64/64 [00:00<00:00, 511.80it/s]\n"
     ]
    },
    {
     "name": "stdout",
     "output_type": "stream",
     "text": [
      "[-10.97558308 -10.8951416  -10.67044544 -10.56989765 -10.54962635\n",
      " -10.47861958 -10.39052963 -10.36895084 -10.34971046 -10.25609016]\n",
      "[22619. 20715. 55387. 63511. 55391. 22651. 22779. 22763. 20713. 63583.]\n"
     ]
    },
    {
     "name": "stderr",
     "output_type": "stream",
     "text": [
      "100%|██████████| 65536/65536 [00:00<00:00, 173271.83it/s]"
     ]
    },
    {
     "name": "stdout",
     "output_type": "stream",
     "text": [
      "[-10.975582778453827, -10.89514046907425, -10.670445024967194, -10.569896817207336, -10.549625813961029, -10.47861909866333, -10.390529096126556, -10.368949949741364, -10.349710404872894, -10.256089568138123]\n"
     ]
    },
    {
     "name": "stderr",
     "output_type": "stream",
     "text": [
      "\n"
     ]
    }
   ],
   "source": [
    "#test \n",
    "import numpy as np\n",
    "from itertools import product\n",
    "N = 16\n",
    "\n",
    "Q = cp.random.uniform(-1, 1, size=(N, N), dtype=cp.float32)\n",
    "Q = cp.triu(Q)\n",
    "\n",
    "energies, states = brute_force_gpu(Q, 10)\n",
    "print(energies)\n",
    "print(states)\n",
    "\n",
    "en = []\n",
    "st = []\n",
    "Q2 = cp.asnumpy(Q)\n",
    "for state in tqdm(product([0, 1], repeat=N), total=2**N):\n",
    "    s = np.array(state)\n",
    "    e = s @ Q2 @ s.T\n",
    "    en.append(e.item())\n",
    "en.sort()\n",
    "print(en[:10])"
   ]
  },
  {
   "cell_type": "code",
   "execution_count": 7,
   "metadata": {},
   "outputs": [
    {
     "name": "stderr",
     "output_type": "stream",
     "text": [
      "wyczerpujące przeszukiwanie: 100%|██████████| 16/16 [00:00<00:00, 466.03it/s]"
     ]
    },
    {
     "name": "stdout",
     "output_type": "stream",
     "text": [
      "[-39. -37. -37. -37. -37. -37. -37. -37. -37. -37.]\n",
      "[9375503. 7401720. 7403760. 7403764. 7403768. 7401712. 7401716. 7928048.\n",
      " 7926008. 7928056.]\n"
     ]
    },
    {
     "name": "stderr",
     "output_type": "stream",
     "text": [
      "\n"
     ]
    }
   ],
   "source": [
    "# test bruteforce\n",
    "import cupy as cp\n",
    "import numpy as np\n",
    "from itertools import product\n",
    "from tqdm import tqdm\n",
    "from funkcje_pomocnicze import read_instance, small_pegasus, ising_to_qubo\n",
    "\n",
    "J, h = read_instance(small_pegasus.path, convention=\"dwave\")\n",
    "Q, offset = ising_to_qubo(J, h)\n",
    "Q = cp.asarray(Q, dtype=cp.float32)\n",
    "\n",
    "energies, states = brute_force_gpu(Q, 10, 20, 512)\n",
    "print(energies + offset)\n",
    "print(states)\n"
   ]
  },
  {
   "cell_type": "code",
   "execution_count": 9,
   "metadata": {},
   "outputs": [
    {
     "name": "stderr",
     "output_type": "stream",
     "text": [
      "wyczerpujące przeszukiwanie: 100%|██████████| 8192/8192 [00:11<00:00, 685.79it/s]"
     ]
    },
    {
     "name": "stdout",
     "output_type": "stream",
     "text": [
      "-51.468971252441406\n"
     ]
    },
    {
     "name": "stderr",
     "output_type": "stream",
     "text": [
      "\n"
     ]
    }
   ],
   "source": [
    "N = 33\n",
    "\n",
    "Q = cp.random.uniform(-1, 1, size=(N, N), dtype=cp.float32)\n",
    "Q = cp.triu(Q)\n",
    "\n",
    "energies, states = brute_force_gpu(Q, 10, 20, 512)\n",
    "print(min(energies))"
   ]
  },
  {
   "cell_type": "markdown",
   "metadata": {},
   "source": [
    "# Symulowana bifurkacja "
   ]
  },
  {
   "cell_type": "code",
   "execution_count": null,
   "metadata": {},
   "outputs": [],
   "source": [
    "# Balistyczna symulowana bifurkacja ngpu naiwna\n",
    "import cupy as cp\n",
    "from math import sqrt\n",
    "from typing import Optional\n",
    "from tqdm import tqdm\n",
    "\n",
    "from funkcje_pomocnicze import calculate_energy_gpu\n",
    "\n",
    "\n",
    "def wall_gpu(x: cp.ndarray, y: cp.ndarray):\n",
    "    mask = cp.abs(x) > 1\n",
    "    x[mask] = cp.sign(x[mask])\n",
    "    y[mask] = 0\n",
    "    return x, y\n",
    "\n",
    "\n",
    "def balistic_simulated_bifurcation_gpu_naive(J, h, num_steps, time_step, num_trajectories: int, \n",
    "                                   a_0: Optional[float] = None, c_0_scaling: Optional[float] = None):\n",
    "    if a_0 is None:\n",
    "        a_0 = 1\n",
    "\n",
    "    N, _ = J.shape\n",
    "    mean_J = cp.sqrt(cp.sum(cp.square(J)) / (N * (N - 1)) )\n",
    "    c_0 = 0.5 / (mean_J * sqrt(N))\n",
    "\n",
    "    if c_0_scaling is not None:\n",
    "        c_0 *= c_0_scaling\n",
    "\n",
    "\n",
    "    a = cp.linspace(0, a_0, num=num_steps)\n",
    "\n",
    "    x = cp.zeros((N, num_trajectories))\n",
    "    y = cp.random.uniform(-0.1, 0.1, (N, num_trajectories))\n",
    "\n",
    "    for t in tqdm(range(num_steps), desc=\"symulowana bifurkacja\"):\n",
    "        y += (-1 * (a_0 - a[t]) * x + c_0 * (cp.matmul(J,x) + h.reshape((N, 1)))) * time_step  # x(t)\n",
    "        x += a_0 * y * time_step # x(t + 1)\n",
    "\n",
    "        x, y = wall_gpu(x, y)\n",
    "\n",
    "    x = cp.sign(x)\n",
    "    return x, calculate_energy_gpu(J, h, x)"
   ]
  },
  {
   "cell_type": "markdown",
   "metadata": {},
   "source": []
  },
  {
   "cell_type": "code",
   "execution_count": 18,
   "metadata": {},
   "outputs": [],
   "source": [
    "# Implementacja SBM używając własnego kernelu\n",
    "import cupy as cp\n",
    "from math import sqrt\n",
    "from typing import Optional\n",
    "from tqdm import tqdm\n",
    "\n",
    "from funkcje_pomocnicze import calculate_energy_gpu\n",
    "\n",
    "def balistic_simulated_bifurcation_gpu(J, h, num_steps, time_step, num_trajectories: int, \n",
    "                                   a_0: Optional[float] = None, c_0_scaling: Optional[float] = None):\n",
    "    if a_0 is None:\n",
    "        a_0 = 1\n",
    "    \n",
    "    N, _ = J.shape\n",
    "    mean_J = np.sqrt(np.sum(np.square(J)) / (N * (N - 1)) )\n",
    "    c_0 = 0.5 / (mean_J * sqrt(N))\n",
    "\n",
    "    if c_0_scaling is not None:\n",
    "        c_0 *= c_0_scaling\n",
    "\n",
    "    dtype = cp.float32\n",
    "\n",
    "    a = [dtype(i * a_0 / (num_steps - 1)) for i in range(num_steps)]\n",
    "    \n",
    "    a_0 = dtype(a_0)\n",
    "    c_0 = dtype(c_0.item())\n",
    "    time_step = dtype(time_step)\n",
    "\n",
    "    x = cp.zeros((N, num_trajectories), dtype=dtype)\n",
    "    y = cp.random.uniform(-0.1, 0.1, (N, num_trajectories), dtype=dtype)\n",
    "\n",
    "    x_new = cp.empty_like(x)\n",
    "    y_new = cp.empty_like(y)\n",
    "\n",
    "    threadsperblock = 256  # Ilość wątków w bloku,\n",
    "    blockspergrid_x = num_trajectories  # każdy blok zajmuje się trajektorią\n",
    "    blockspergrid_y = (N + threadsperblock - 1) // threadsperblock  # wystarczająca ilość bloków by pomieścić całą kolumnę \n",
    "    blockspergrid = (blockspergrid_x, blockspergrid_y)\n",
    "    \n",
    "    kernel = cp.RawModule(path=\"cuda_kernels/sbm_kernel.ptx\")\n",
    "    update_y = kernel.get_function(\"update_y\")\n",
    "    update_x_and_wall = kernel.get_function(\"update_x_and_wall\")\n",
    "\n",
    "    for t in tqdm(range(num_steps), desc=\"balistyczna symulowana bifurkacja\"):\n",
    "        A = cp.matmul(J, x) + h.reshape((N, 1))\n",
    "        update_y(blockspergrid, (threadsperblock,),(x, y, A, \n",
    "                                                    a_0, a[t], c_0, time_step, N,\n",
    "                                                    y_new))\n",
    "        y = y_new\n",
    "        update_x_and_wall(blockspergrid, (threadsperblock,),(x, y, \n",
    "                                                             a_0, time_step, N, \n",
    "                                                             x_new, y_new))\n",
    "        x = x_new\n",
    "        y = y_new\n",
    "\n",
    "    x = cp.sign(x)\n",
    "    return x, calculate_energy_gpu(J, h, x)"
   ]
  },
  {
   "cell_type": "code",
   "execution_count": 6,
   "metadata": {},
   "outputs": [
    {
     "name": "stderr",
     "output_type": "stream",
     "text": [
      "symulowana bifurkacja:   0%|          | 0/200 [00:00<?, ?it/s]"
     ]
    },
    {
     "name": "stderr",
     "output_type": "stream",
     "text": [
      "symulowana bifurkacja: 100%|██████████| 200/200 [00:00<00:00, 733.43it/s]\n"
     ]
    },
    {
     "name": "stdout",
     "output_type": "stream",
     "text": [
      "Otrzymana energia: -467.0\n",
      "Stan podstawowy: -469.0\n"
     ]
    },
    {
     "data": {
      "image/png": "[encoded data removed]",
      "text/plain": [
       "<Figure size 640x480 with 1 Axes>"
      ]
     },
     "metadata": {},
     "output_type": "display_data"
    }
   ],
   "source": [
    "import matplotlib.pyplot as plt \n",
    "from funkcje_pomocnicze import read_instance, test_pegasus, small_pegasus\n",
    "J, h = read_instance(test_pegasus.path, convention=\"minus_half\")\n",
    "\n",
    "J = cp.asarray(J, dtype=cp.float32)\n",
    "h = cp.asarray(h, dtype=cp.float32)\n",
    "\n",
    "states, energies = balistic_simulated_bifurcation_gpu_naive(J, h, time_step=0.5, num_steps=200, num_trajectories=2000, c_0_scaling=0.7)\n",
    "\n",
    "print(f\"Otrzymana energia: {min(energies)}\")\n",
    "print(f\"Stan podstawowy: {test_pegasus.best_energy}\")\n",
    "\n",
    "\n",
    "plt.hist(cp.asnumpy(energies), bins=32, color='blue', edgecolor='black', alpha=0.7)\n",
    "plt.show()"
   ]
  },
  {
   "cell_type": "code",
   "execution_count": 7,
   "metadata": {},
   "outputs": [],
   "source": [
    "import cupy as cp\n",
    "from math import sqrt\n",
    "from typing import Optional\n",
    "from tqdm import tqdm\n",
    "\n",
    "from funkcje_pomocnicze import calculate_energy_gpu\n",
    "\n",
    "\n",
    "def wall_gpu(x: cp.ndarray, y: cp.ndarray):\n",
    "    mask = cp.abs(x) > 1\n",
    "    x[mask] = cp.sign(x[mask])\n",
    "    y[mask] = 0\n",
    "    return x, y\n",
    "\n",
    "\n",
    "def discrete_simulated_bifurcation_gpu_naive(J, h, num_steps, time_step, num_trajectories: int, \n",
    "                                   a_0: Optional[float] = None, c_0_scaling: Optional[float] = None):\n",
    "    if a_0 is None:\n",
    "        a_0 = 1\n",
    "\n",
    "    N, _ = J.shape\n",
    "    mean_J = cp.sqrt(cp.sum(cp.square(J)) / (N * (N - 1)) )\n",
    "    c_0 = 0.5 / (mean_J * sqrt(N))\n",
    "\n",
    "    if c_0_scaling is not None:\n",
    "        c_0 *= c_0_scaling\n",
    "\n",
    "\n",
    "    a = cp.linspace(0, a_0, num=num_steps)\n",
    "\n",
    "    x = cp.zeros((N, num_trajectories))\n",
    "    y = cp.random.uniform(-0.1, 0.1, (N, num_trajectories))\n",
    "\n",
    "    for t in tqdm(range(num_steps), desc=\"symulowana bifurkacja\"):\n",
    "        y += (-1 * (a_0 - a[t]) * x + c_0 * (cp.matmul(J,cp.sign(x)) + h.reshape((N, 1)))) * time_step  # x(t)\n",
    "        x += a_0 * y * time_step # x(t + 1)\n",
    "\n",
    "        x, y = wall_gpu(x, y)\n",
    "\n",
    "    x = cp.sign(x)\n",
    "    return x, calculate_energy_gpu(J, h, x)"
   ]
  },
  {
   "cell_type": "code",
   "execution_count": 25,
   "metadata": {},
   "outputs": [],
   "source": [
    "# Implementacja Discrete Simulated Bifurcation\n",
    "import cupy as cp\n",
    "from math import sqrt\n",
    "from typing import Optional\n",
    "from tqdm import tqdm\n",
    "\n",
    "from funkcje_pomocnicze import calculate_energy_gpu\n",
    "\n",
    "\n",
    "def discrete_simulated_bifurcation_gpu(J, h, num_steps, time_step, num_trajectories: int, \n",
    "                                   a_0: Optional[float] = None, c_0_scaling: Optional[float] = None):\n",
    "    if a_0 is None:\n",
    "        a_0 = 1\n",
    "    \n",
    "    N, _ = J.shape\n",
    "    mean_J = cp.sqrt(cp.sum(cp.square(J)) / (N * (N - 1)) )\n",
    "    c_0 = 0.5 / (mean_J * sqrt(N))\n",
    "\n",
    "    if c_0_scaling is not None:\n",
    "        c_0 *= c_0_scaling\n",
    "\n",
    "    dtype = cp.float32\n",
    "\n",
    "    a = [dtype(i * a_0 / (num_steps - 1)) for i in range(num_steps)]\n",
    "    \n",
    "    a_0 = dtype(a_0)\n",
    "    c_0 = dtype(c_0.item())\n",
    "    time_step = dtype(time_step)\n",
    "\n",
    "    x = cp.zeros((N, num_trajectories), dtype=dtype)\n",
    "    y = cp.random.uniform(-0.1, 0.1, (N, num_trajectories), dtype=dtype)\n",
    "\n",
    "    x_new = cp.empty_like(x)\n",
    "    y_new = cp.empty_like(y)\n",
    "\n",
    "    threadsperblock = 256  # Ilość wątków w bloku,\n",
    "    blockspergrid_x = num_trajectories  # każdy blok zajmuje się trajektorią\n",
    "    blockspergrid_y = (N + threadsperblock - 1) // threadsperblock  # wystarczająca ilość bloków by pomieścić całą kolumnę \n",
    "    blockspergrid = (blockspergrid_x, blockspergrid_y)\n",
    "    \n",
    "    kernel = cp.RawModule(path=\"cuda_kernels/sbm_kernel.ptx\")\n",
    "    update_y = kernel.get_function(\"update_y\")\n",
    "    update_x_and_wall = kernel.get_function(\"update_x_and_wall\")\n",
    "\n",
    "    for t in tqdm(range(num_steps), desc=\"dyskretna symulowana bifurkacja\"):\n",
    "        sign_x = cp.sign(x)\n",
    "        A = cp.matmul(J, sign_x) + h.reshape((N, 1))\n",
    "        update_y(blockspergrid, (threadsperblock,),(x, y, A, \n",
    "                                                    a_0, a[t], c_0, time_step, N,\n",
    "                                                    y_new))\n",
    "        y = y_new\n",
    "        update_x_and_wall(blockspergrid, (threadsperblock,),(x, y, \n",
    "                                                             a_0, time_step, N,\n",
    "                                                             x_new, y_new))\n",
    "        x = x_new\n",
    "        y = y_new\n",
    "\n",
    "    x = cp.sign(x)\n",
    "    return x, calculate_energy_gpu(J, h, x)\n"
   ]
  },
  {
   "cell_type": "code",
   "execution_count": 46,
   "metadata": {},
   "outputs": [
    {
     "name": "stderr",
     "output_type": "stream",
     "text": [
      "dyskretna symulowana bifurkacja: 100%|██████████| 50000/50000 [00:08<00:00, 6234.24it/s]\n"
     ]
    },
    {
     "name": "stdout",
     "output_type": "stream",
     "text": [
      "Otrzymana energia: -2750.0\n"
     ]
    },
    {
     "data": {
      "image/png": "[encoded data removed]",
      "text/plain": [
       "<Figure size 640x480 with 1 Axes>"
      ]
     },
     "metadata": {},
     "output_type": "display_data"
    }
   ],
   "source": [
    "import cupy as cp\n",
    "import os\n",
    "import matplotlib.pyplot as plt\n",
    "from funkcje_pomocnicze import read_instance, test_pegasus, small_pegasus, pegasus\n",
    "\n",
    "#J, h = read_instance(test_pegasus.path, convention=\"minus_half\")\n",
    "P8 = pegasus(os.path.join(\"instancje\", \"Pegasus\", \"P8_CBFM-P.txt\"), -2752.0)\n",
    "J, h = read_instance(P8.path, convention=\"minus_half\")\n",
    "\n",
    "J = cp.asarray(J, dtype=cp.float32)\n",
    "h = cp.asarray(h, dtype=cp.float32)\n",
    "\n",
    "\n",
    "states, energies = discrete_simulated_bifurcation_gpu(J, h, time_step=1, num_steps=50000, num_trajectories=2*15, c_0_scaling=0.3)\n",
    "print(f\"Otrzymana energia: {min(energies)}\")\n",
    "#print(f\"Stan podstawowy: {test_pegasus.best_energy}\")\n",
    "\n",
    "\n",
    "plt.hist(cp.asnumpy(energies), bins=32, color='blue', edgecolor='black', alpha=0.7)\n",
    "plt.show()"
   ]
  },
  {
   "cell_type": "markdown",
   "metadata": {},
   "source": [
    "# "
   ]
  }
 ],
 "metadata": {
  "kernelspec": {
   "display_name": "ASK",
   "language": "python",
   "name": "python3"
  },
  "language_info": {
   "codemirror_mode": {
    "name": "ipython",
    "version": 3
   },
   "file_extension": ".py",
   "mimetype": "text/x-python",
   "name": "python",
   "nbconvert_exporter": "python",
   "pygments_lexer": "ipython3",
   "version": "3.12.9"
  }
 },
 "nbformat": 4,
 "nbformat_minor": 2
}
