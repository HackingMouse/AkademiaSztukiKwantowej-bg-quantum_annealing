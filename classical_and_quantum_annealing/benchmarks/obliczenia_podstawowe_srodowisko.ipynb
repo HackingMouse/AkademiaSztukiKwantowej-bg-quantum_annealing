{
 "cells": [
  {
   "cell_type": "markdown",
   "metadata": {},
   "source": [
    "# Generowanie danych dla benchmarków\n",
    "\n",
    "Obliczenia pokazane tutaj należy wykonać używając podstawowego środowiska, które zostało przygotowane. Potrzebne informacje znajdują się w pliku [Setup](../Setup.ipynb)."
   ]
  },
  {
   "cell_type": "code",
   "execution_count": 3,
   "metadata": {},
   "outputs": [
    {
     "name": "stderr",
     "output_type": "stream",
     "text": [
      "Zbieranie danych dla topologii chimera:   0%|          | 0/5 [00:00<?, ?it/s]\n"
     ]
    },
    {
     "ename": "CUDARuntimeError",
     "evalue": "cudaErrorInsufficientDriver: CUDA driver version is insufficient for CUDA runtime version",
     "output_type": "error",
     "traceback": [
      "\u001b[31m---------------------------------------------------------------------------\u001b[39m",
      "\u001b[31mCUDARuntimeError\u001b[39m                          Traceback (most recent call last)",
      "\u001b[36mCell\u001b[39m\u001b[36m \u001b[39m\u001b[32mIn[3]\u001b[39m\u001b[32m, line 26\u001b[39m\n\u001b[32m     24\u001b[39m \u001b[38;5;28;01mfor\u001b[39;00m instance \u001b[38;5;129;01min\u001b[39;00m tqdm(data, desc=\u001b[33mf\u001b[39m\u001b[33m\"\u001b[39m\u001b[33mZbieranie danych dla topologii \u001b[39m\u001b[38;5;132;01m{\u001b[39;00marchitecture\u001b[38;5;132;01m}\u001b[39;00m\u001b[33m\"\u001b[39m):\n\u001b[32m     25\u001b[39m     J, h = read_instance(instance.path, convention=\u001b[33m\"\u001b[39m\u001b[33mminus_half\u001b[39m\u001b[33m\"\u001b[39m)\n\u001b[32m---> \u001b[39m\u001b[32m26\u001b[39m     J2 = \u001b[43mcp\u001b[49m\u001b[43m.\u001b[49m\u001b[43masarray\u001b[49m\u001b[43m(\u001b[49m\u001b[43mJ\u001b[49m\u001b[43m,\u001b[49m\u001b[43m \u001b[49m\u001b[43mdtype\u001b[49m\u001b[43m=\u001b[49m\u001b[43mcp\u001b[49m\u001b[43m.\u001b[49m\u001b[43mfloat32\u001b[49m\u001b[43m)\u001b[49m\n\u001b[32m     27\u001b[39m     h2 = cp.asarray(h, dtype=cp.float32)\n\u001b[32m     28\u001b[39m     \u001b[38;5;66;03m# kompilacja \u001b[39;00m\n",
      "\u001b[36mFile \u001b[39m\u001b[32mc:\\Users\\stelm\\anaconda3\\envs\\szkolenia\\Lib\\site-packages\\cupy\\_creation\\from_data.py:88\u001b[39m, in \u001b[36masarray\u001b[39m\u001b[34m(a, dtype, order, blocking)\u001b[39m\n\u001b[32m     56\u001b[39m \u001b[38;5;28;01mdef\u001b[39;00m\u001b[38;5;250m \u001b[39m\u001b[34masarray\u001b[39m(a, dtype=\u001b[38;5;28;01mNone\u001b[39;00m, order=\u001b[38;5;28;01mNone\u001b[39;00m, *, blocking=\u001b[38;5;28;01mFalse\u001b[39;00m):\n\u001b[32m     57\u001b[39m \u001b[38;5;250m    \u001b[39m\u001b[33;03m\"\"\"Converts an object to array.\u001b[39;00m\n\u001b[32m     58\u001b[39m \n\u001b[32m     59\u001b[39m \u001b[33;03m    This is equivalent to ``array(a, dtype, copy=False, order=order)``.\u001b[39;00m\n\u001b[32m   (...)\u001b[39m\u001b[32m     86\u001b[39m \n\u001b[32m     87\u001b[39m \u001b[33;03m    \"\"\"\u001b[39;00m\n\u001b[32m---> \u001b[39m\u001b[32m88\u001b[39m     \u001b[38;5;28;01mreturn\u001b[39;00m \u001b[43m_core\u001b[49m\u001b[43m.\u001b[49m\u001b[43marray\u001b[49m\u001b[43m(\u001b[49m\u001b[43ma\u001b[49m\u001b[43m,\u001b[49m\u001b[43m \u001b[49m\u001b[43mdtype\u001b[49m\u001b[43m,\u001b[49m\u001b[43m \u001b[49m\u001b[38;5;28;43;01mFalse\u001b[39;49;00m\u001b[43m,\u001b[49m\u001b[43m \u001b[49m\u001b[43morder\u001b[49m\u001b[43m,\u001b[49m\u001b[43m \u001b[49m\u001b[43mblocking\u001b[49m\u001b[43m=\u001b[49m\u001b[43mblocking\u001b[49m\u001b[43m)\u001b[49m\n",
      "\u001b[36mFile \u001b[39m\u001b[32mcupy\\\\_core\\\\core.pyx:2455\u001b[39m, in \u001b[36mcupy._core.core.array\u001b[39m\u001b[34m()\u001b[39m\n",
      "\u001b[36mFile \u001b[39m\u001b[32mcupy\\\\_core\\\\core.pyx:2482\u001b[39m, in \u001b[36mcupy._core.core.array\u001b[39m\u001b[34m()\u001b[39m\n",
      "\u001b[36mFile \u001b[39m\u001b[32mcupy\\\\_core\\\\core.pyx:2625\u001b[39m, in \u001b[36mcupy._core.core._array_default\u001b[39m\u001b[34m()\u001b[39m\n",
      "\u001b[36mFile \u001b[39m\u001b[32mcupy\\\\_core\\\\core.pyx:151\u001b[39m, in \u001b[36mcupy._core.core.ndarray.__new__\u001b[39m\u001b[34m()\u001b[39m\n",
      "\u001b[36mFile \u001b[39m\u001b[32mcupy\\\\_core\\\\core.pyx:239\u001b[39m, in \u001b[36mcupy._core.core._ndarray_base._init\u001b[39m\u001b[34m()\u001b[39m\n",
      "\u001b[36mFile \u001b[39m\u001b[32mcupy\\\\cuda\\\\memory.pyx:738\u001b[39m, in \u001b[36mcupy.cuda.memory.alloc\u001b[39m\u001b[34m()\u001b[39m\n",
      "\u001b[36mFile \u001b[39m\u001b[32mcupy\\\\cuda\\\\memory.pyx:1424\u001b[39m, in \u001b[36mcupy.cuda.memory.MemoryPool.malloc\u001b[39m\u001b[34m()\u001b[39m\n",
      "\u001b[36mFile \u001b[39m\u001b[32mcupy\\\\cuda\\\\memory.pyx:1444\u001b[39m, in \u001b[36mcupy.cuda.memory.MemoryPool.malloc\u001b[39m\u001b[34m()\u001b[39m\n",
      "\u001b[36mFile \u001b[39m\u001b[32mcupy\\\\cuda\\\\device.pyx:40\u001b[39m, in \u001b[36mcupy.cuda.device.get_device_id\u001b[39m\u001b[34m()\u001b[39m\n",
      "\u001b[36mFile \u001b[39m\u001b[32mcupy_backends\\\\cuda\\\\api\\\\runtime.pyx:202\u001b[39m, in \u001b[36mcupy_backends.cuda.api.runtime.getDevice\u001b[39m\u001b[34m()\u001b[39m\n",
      "\u001b[36mFile \u001b[39m\u001b[32mcupy_backends\\\\cuda\\\\api\\\\runtime.pyx:146\u001b[39m, in \u001b[36mcupy_backends.cuda.api.runtime.check_status\u001b[39m\u001b[34m()\u001b[39m\n",
      "\u001b[31mCUDARuntimeError\u001b[39m: cudaErrorInsufficientDriver: CUDA driver version is insufficient for CUDA runtime version"
     ]
    }
   ],
   "source": [
    "# Obliczenia potrzebne do benchmarku naszej implementacji symulowanej bifurkacji\n",
    "\n",
    "import os\n",
    "import time\n",
    "import pickle\n",
    "\n",
    "import cupy as cp\n",
    "import matplotlib.pyplot as plt\n",
    "import numpy as np\n",
    "\n",
    "from benchmark_functions import discrete_simulated_bifurcation_gpu, balistic_simulated_bifurcation\n",
    "from IPython.utils.io import capture_output\n",
    "from tqdm import tqdm\n",
    "from benchmark_data import read_instance, chimera_data, pegasus_data, ROOT, zephyr_data\n",
    "from math import inf\n",
    "\n",
    "\n",
    "\n",
    "for architecture in [\"chimera\", \"pegasus\", \"zephyr\"]:\n",
    "    data = chimera_data if architecture == \"chimera\" else pegasus_data if architecture == \"pegasus\" else zephyr_data\n",
    "\n",
    "    gaps = []\n",
    "    times = []\n",
    "    for instance in tqdm(data, desc=f\"Zbieranie danych dla topologii {architecture}\"):\n",
    "        J, h = read_instance(instance.path, convention=\"minus_half\")\n",
    "        J2 = cp.asarray(J, dtype=cp.float32)\n",
    "        h2 = cp.asarray(h, dtype=cp.float32)\n",
    "        # kompilacja \n",
    "        with capture_output() as captured:\n",
    "            states, energies = discrete_simulated_bifurcation_gpu(J2, h2, 100, 0.25, 2**5)\n",
    "\n",
    "        result = inf\n",
    "        gap = inf\n",
    "        elapsed = 0\n",
    "        count = 0\n",
    "        best_result = 0\n",
    "        start = time.time()\n",
    "        with capture_output() as captured:\n",
    "            states, energies = discrete_simulated_bifurcation_gpu(J2, h2, 5000, 0.5, 2**11, c_0_scaling=0.7)\n",
    "        result = min(energies).item()\n",
    "        checkpoint = time.time()\n",
    "        elapsed = checkpoint - start\n",
    "        gap = (instance.best_energy - result)/(instance.best_energy)\n",
    "\n",
    "        gaps.append(gap)    \n",
    "        times.append(elapsed)\n",
    "\n",
    "\n",
    "\n",
    "    with open(os.path.join(ROOT, \"wyniki\", f\"sbm_our_{architecture}_results.pkl\"), \"wb\") as f:\n",
    "        data = (times, gaps)\n",
    "        pickle.dump(data, f)\n",
    "\n"
   ]
  },
  {
   "cell_type": "code",
   "execution_count": 4,
   "metadata": {},
   "outputs": [
    {
     "ename": "CUDARuntimeError",
     "evalue": "cudaErrorInsufficientDriver: CUDA driver version is insufficient for CUDA runtime version",
     "output_type": "error",
     "traceback": [
      "\u001b[31m---------------------------------------------------------------------------\u001b[39m",
      "\u001b[31mCUDARuntimeError\u001b[39m                          Traceback (most recent call last)",
      "\u001b[36mCell\u001b[39m\u001b[36m \u001b[39m\u001b[32mIn[4]\u001b[39m\u001b[32m, line 14\u001b[39m\n\u001b[32m     11\u001b[39m \u001b[38;5;28;01mfrom\u001b[39;00m\u001b[38;5;250m \u001b[39m\u001b[34;01mbenchmark_data\u001b[39;00m\u001b[38;5;250m \u001b[39m\u001b[38;5;28;01mimport\u001b[39;00m ROOT\n\u001b[32m     13\u001b[39m \u001b[38;5;66;03m# Kompilacja\u001b[39;00m\n\u001b[32m---> \u001b[39m\u001b[32m14\u001b[39m Q = \u001b[43mcp\u001b[49m\u001b[43m.\u001b[49m\u001b[43mrandom\u001b[49m\u001b[43m.\u001b[49m\u001b[43muniform\u001b[49m\u001b[43m(\u001b[49m\u001b[43m-\u001b[49m\u001b[32;43m1\u001b[39;49m\u001b[43m,\u001b[49m\u001b[43m \u001b[49m\u001b[32;43m1\u001b[39;49m\u001b[43m,\u001b[49m\u001b[43m \u001b[49m\u001b[43msize\u001b[49m\u001b[43m=\u001b[49m\u001b[43m(\u001b[49m\u001b[32;43m10\u001b[39;49m\u001b[43m,\u001b[49m\u001b[43m \u001b[49m\u001b[32;43m10\u001b[39;49m\u001b[43m)\u001b[49m\u001b[43m,\u001b[49m\u001b[43m \u001b[49m\u001b[43mdtype\u001b[49m\u001b[43m=\u001b[49m\u001b[43mcp\u001b[49m\u001b[43m.\u001b[49m\u001b[43mfloat32\u001b[49m\u001b[43m)\u001b[49m\n\u001b[32m     15\u001b[39m Q = cp.triu(Q)\n\u001b[32m     16\u001b[39m \u001b[38;5;28;01mwith\u001b[39;00m capture_output() \u001b[38;5;28;01mas\u001b[39;00m captured:\n",
      "\u001b[36mFile \u001b[39m\u001b[32mc:\\Users\\stelm\\anaconda3\\envs\\szkolenia\\Lib\\site-packages\\cupy\\random\\_distributions.py:842\u001b[39m, in \u001b[36muniform\u001b[39m\u001b[34m(low, high, size, dtype)\u001b[39m\n\u001b[32m    822\u001b[39m \u001b[38;5;28;01mdef\u001b[39;00m\u001b[38;5;250m \u001b[39m\u001b[34muniform\u001b[39m(low=\u001b[32m0.0\u001b[39m, high=\u001b[32m1.0\u001b[39m, size=\u001b[38;5;28;01mNone\u001b[39;00m, dtype=\u001b[38;5;28mfloat\u001b[39m):\n\u001b[32m    823\u001b[39m \u001b[38;5;250m    \u001b[39m\u001b[33;03m\"\"\"Returns an array of uniformly-distributed samples over an interval.\u001b[39;00m\n\u001b[32m    824\u001b[39m \n\u001b[32m    825\u001b[39m \u001b[33;03m    Samples are drawn from a uniform distribution over the half-open interval\u001b[39;00m\n\u001b[32m   (...)\u001b[39m\u001b[32m    840\u001b[39m \n\u001b[32m    841\u001b[39m \u001b[33;03m    \"\"\"\u001b[39;00m\n\u001b[32m--> \u001b[39m\u001b[32m842\u001b[39m     rs = \u001b[43m_generator\u001b[49m\u001b[43m.\u001b[49m\u001b[43mget_random_state\u001b[49m\u001b[43m(\u001b[49m\u001b[43m)\u001b[49m\n\u001b[32m    843\u001b[39m     \u001b[38;5;28;01mreturn\u001b[39;00m rs.uniform(low, high, size=size, dtype=dtype)\n",
      "\u001b[36mFile \u001b[39m\u001b[32mc:\\Users\\stelm\\anaconda3\\envs\\szkolenia\\Lib\\site-packages\\cupy\\random\\_generator.py:1300\u001b[39m, in \u001b[36mget_random_state\u001b[39m\u001b[34m()\u001b[39m\n\u001b[32m   1288\u001b[39m \u001b[38;5;28;01mdef\u001b[39;00m\u001b[38;5;250m \u001b[39m\u001b[34mget_random_state\u001b[39m():\n\u001b[32m   1289\u001b[39m \u001b[38;5;250m    \u001b[39m\u001b[33;03m\"\"\"Gets the state of the random number generator for the current device.\u001b[39;00m\n\u001b[32m   1290\u001b[39m \n\u001b[32m   1291\u001b[39m \u001b[33;03m    If the state for the current device is not created yet, this function\u001b[39;00m\n\u001b[32m   (...)\u001b[39m\u001b[32m   1298\u001b[39m \n\u001b[32m   1299\u001b[39m \u001b[33;03m    \"\"\"\u001b[39;00m\n\u001b[32m-> \u001b[39m\u001b[32m1300\u001b[39m     dev = \u001b[43mcuda\u001b[49m\u001b[43m.\u001b[49m\u001b[43mDevice\u001b[49m\u001b[43m(\u001b[49m\u001b[43m)\u001b[49m\n\u001b[32m   1301\u001b[39m     rs = _random_states.get(dev.id, \u001b[38;5;28;01mNone\u001b[39;00m)\n\u001b[32m   1302\u001b[39m     \u001b[38;5;28;01mif\u001b[39;00m rs \u001b[38;5;129;01mis\u001b[39;00m \u001b[38;5;28;01mNone\u001b[39;00m:\n",
      "\u001b[36mFile \u001b[39m\u001b[32mcupy\\\\cuda\\\\device.pyx:148\u001b[39m, in \u001b[36mcupy.cuda.device.Device.__init__\u001b[39m\u001b[34m()\u001b[39m\n",
      "\u001b[36mFile \u001b[39m\u001b[32mcupy_backends\\\\cuda\\\\api\\\\runtime.pyx:202\u001b[39m, in \u001b[36mcupy_backends.cuda.api.runtime.getDevice\u001b[39m\u001b[34m()\u001b[39m\n",
      "\u001b[36mFile \u001b[39m\u001b[32mcupy_backends\\\\cuda\\\\api\\\\runtime.pyx:146\u001b[39m, in \u001b[36mcupy_backends.cuda.api.runtime.check_status\u001b[39m\u001b[34m()\u001b[39m\n",
      "\u001b[31mCUDARuntimeError\u001b[39m: cudaErrorInsufficientDriver: CUDA driver version is insufficient for CUDA runtime version"
     ]
    }
   ],
   "source": [
    "# Tworzenie danych dla naszej implementacji wyczerpującego przeszukiwania na GPU\n",
    "\n",
    "import time\n",
    "import os\n",
    "import pickle\n",
    "import cupy as cp\n",
    "\n",
    "from benchmark_functions import brute_force_gpu\n",
    "from tqdm import tqdm\n",
    "from IPython.utils.io import capture_output\n",
    "from benchmark_data import ROOT\n",
    "\n",
    "# Kompilacja\n",
    "Q = cp.random.uniform(-1, 1, size=(10, 10), dtype=cp.float32)\n",
    "Q = cp.triu(Q)\n",
    "with capture_output() as captured:\n",
    "    brute_force_gpu(Q, 10)\n",
    "\n",
    "times = []\n",
    "for n in tqdm(range(10, 41)):\n",
    "    Q = cp.random.uniform(-1, 1, size=(n, n), dtype=cp.float32)\n",
    "    Q = cp.triu(Q)\n",
    "    start = time.time()\n",
    "    with capture_output() as captured:\n",
    "        brute_force_gpu(Q, num_states=10, sweep_size_exponent=min(n, 21), threadsperblock=512)\n",
    "    end = time.time()\n",
    "    times.append(end - start)\n",
    "\n",
    "with open(os.path.join(ROOT, \"wyniki\", \"bruteforce_results.pkl\"), \"wb\") as f:\n",
    "    pickle.dump(times, f)"
   ]
  },
  {
   "cell_type": "code",
   "execution_count": 5,
   "metadata": {},
   "outputs": [
    {
     "name": "stderr",
     "output_type": "stream",
     "text": [
      "Wyczerpujące przeszukiwanie dla różnych n: 100%|██████████| 17/17 [20:19<00:00, 71.75s/it] \n"
     ]
    }
   ],
   "source": [
    "# Tworzenie danych dla naiwnej implementacji na CPU\n",
    "\n",
    "import time\n",
    "import os\n",
    "import pickle\n",
    "import numpy as np\n",
    "\n",
    "from benchmark_functions import brute_force_naive\n",
    "from tqdm import tqdm\n",
    "from IPython.utils.io import capture_output\n",
    "from benchmark_data import ROOT\n",
    "\n",
    "\n",
    "times = []\n",
    "n_range = list(range(10, 27))\n",
    "for n in tqdm(n_range, desc=\"Wyczerpujące przeszukiwanie dla różnych n\"):\n",
    "\n",
    "    J = np.triu(np.random.uniform(-1, 1, size=(n, n)), k=1)  # losowa gęsta macierz górnotrójkątna\n",
    "    h = np.random.uniform(-1, 1, size=n)  # losowy wektor\n",
    "    start = time.time()\n",
    "    with capture_output() as captured:\n",
    "        state, energy = brute_force_naive(J, h)\n",
    "    end = time.time()\n",
    "    elapsed = end - start\n",
    "    times.append(elapsed)\n",
    "\n",
    "with open(os.path.join(ROOT, \"wyniki\", \"bruteforce_cpu_results.pkl\"), \"wb\") as f:\n",
    "    pickle.dump(times, f)"
   ]
  }
 ],
 "metadata": {
  "kernelspec": {
   "display_name": "szkolenia",
   "language": "python",
   "name": "python3"
  },
  "language_info": {
   "codemirror_mode": {
    "name": "ipython",
    "version": 3
   },
   "file_extension": ".py",
   "mimetype": "text/x-python",
   "name": "python",
   "nbconvert_exporter": "python",
   "pygments_lexer": "ipython3",
   "version": "3.12.9"
  }
 },
 "nbformat": 4,
 "nbformat_minor": 2
}
